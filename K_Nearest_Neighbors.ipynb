{
 "cells": [
  {
   "cell_type": "code",
   "execution_count": 1,
   "metadata": {},
   "outputs": [
    {
     "name": "stderr",
     "output_type": "stream",
     "text": [
      "Using TensorFlow backend.\n"
     ]
    }
   ],
   "source": [
    "import os\n",
    "import time\n",
    "import pandas as pd \n",
    "import numpy as np\n",
    "import matplotlib.pyplot as plt\n",
    "import seaborn as sns\n",
    "\n",
    "from sklearn.model_selection import train_test_split\n",
    "from sklearn.model_selection import cross_val_score\n",
    "from sklearn.metrics import accuracy_score, make_scorer,roc_curve, auc, f1_score,recall_score, precision_score\n",
    "from sklearn.preprocessing import LabelEncoder\n",
    "\n",
    "from sklearn.ensemble import RandomForestClassifier\n",
    "from sklearn.neighbors import KNeighborsClassifier\n",
    "from keras.utils.np_utils import to_categorical\n",
    "\n",
    "%matplotlib inline"
   ]
  },
  {
   "cell_type": "code",
   "execution_count": 2,
   "metadata": {},
   "outputs": [],
   "source": [
    "path =os.getcwd()"
   ]
  },
  {
   "cell_type": "code",
   "execution_count": 3,
   "metadata": {},
   "outputs": [],
   "source": [
    "df =pd.read_csv(path +'/Kickstarter/cleaned_kick_data01.csv')"
   ]
  },
  {
   "cell_type": "code",
   "execution_count": 4,
   "metadata": {},
   "outputs": [
    {
     "data": {
      "text/html": [
       "<div>\n",
       "<style scoped>\n",
       "    .dataframe tbody tr th:only-of-type {\n",
       "        vertical-align: middle;\n",
       "    }\n",
       "\n",
       "    .dataframe tbody tr th {\n",
       "        vertical-align: top;\n",
       "    }\n",
       "\n",
       "    .dataframe thead th {\n",
       "        text-align: right;\n",
       "    }\n",
       "</style>\n",
       "<table border=\"1\" class=\"dataframe\">\n",
       "  <thead>\n",
       "    <tr style=\"text-align: right;\">\n",
       "      <th></th>\n",
       "      <th>backers_count</th>\n",
       "      <th>category</th>\n",
       "      <th>country</th>\n",
       "      <th>created_at</th>\n",
       "      <th>currency</th>\n",
       "      <th>deadline</th>\n",
       "      <th>fx_rate</th>\n",
       "      <th>goal</th>\n",
       "      <th>location</th>\n",
       "      <th>pledged</th>\n",
       "      <th>staff_pick</th>\n",
       "      <th>status</th>\n",
       "      <th>duration</th>\n",
       "      <th>created_day</th>\n",
       "      <th>continent</th>\n",
       "      <th>city</th>\n",
       "      <th>state</th>\n",
       "    </tr>\n",
       "  </thead>\n",
       "  <tbody>\n",
       "    <tr>\n",
       "      <th>0</th>\n",
       "      <td>0</td>\n",
       "      <td>film</td>\n",
       "      <td>GB</td>\n",
       "      <td>2017-01-11</td>\n",
       "      <td>GBP</td>\n",
       "      <td>2017-02-15</td>\n",
       "      <td>1.261110</td>\n",
       "      <td>40000.0</td>\n",
       "      <td>London, UK</td>\n",
       "      <td>0.0</td>\n",
       "      <td>False</td>\n",
       "      <td>failed</td>\n",
       "      <td>35</td>\n",
       "      <td>11</td>\n",
       "      <td>Europe</td>\n",
       "      <td>London</td>\n",
       "      <td>UK</td>\n",
       "    </tr>\n",
       "    <tr>\n",
       "      <th>1</th>\n",
       "      <td>12</td>\n",
       "      <td>crafts</td>\n",
       "      <td>CA</td>\n",
       "      <td>2016-02-28</td>\n",
       "      <td>CAD</td>\n",
       "      <td>2016-03-29</td>\n",
       "      <td>0.748587</td>\n",
       "      <td>5000.0</td>\n",
       "      <td>London, Canada</td>\n",
       "      <td>357.0</td>\n",
       "      <td>False</td>\n",
       "      <td>failed</td>\n",
       "      <td>30</td>\n",
       "      <td>28</td>\n",
       "      <td>America</td>\n",
       "      <td>London</td>\n",
       "      <td>Canada</td>\n",
       "    </tr>\n",
       "    <tr>\n",
       "      <th>2</th>\n",
       "      <td>1</td>\n",
       "      <td>games</td>\n",
       "      <td>AU</td>\n",
       "      <td>2016-02-13</td>\n",
       "      <td>AUD</td>\n",
       "      <td>2016-03-19</td>\n",
       "      <td>0.722499</td>\n",
       "      <td>5000.0</td>\n",
       "      <td>Perth, AU</td>\n",
       "      <td>1.0</td>\n",
       "      <td>False</td>\n",
       "      <td>failed</td>\n",
       "      <td>35</td>\n",
       "      <td>13</td>\n",
       "      <td>Oceania</td>\n",
       "      <td>Perth</td>\n",
       "      <td>AU</td>\n",
       "    </tr>\n",
       "    <tr>\n",
       "      <th>3</th>\n",
       "      <td>3</td>\n",
       "      <td>fashion</td>\n",
       "      <td>US</td>\n",
       "      <td>2015-05-25</td>\n",
       "      <td>USD</td>\n",
       "      <td>2015-07-01</td>\n",
       "      <td>1.000000</td>\n",
       "      <td>1900.0</td>\n",
       "      <td>Austin, TX</td>\n",
       "      <td>49.0</td>\n",
       "      <td>False</td>\n",
       "      <td>failed</td>\n",
       "      <td>37</td>\n",
       "      <td>25</td>\n",
       "      <td>America</td>\n",
       "      <td>Austin</td>\n",
       "      <td>TX</td>\n",
       "    </tr>\n",
       "    <tr>\n",
       "      <th>4</th>\n",
       "      <td>2</td>\n",
       "      <td>film</td>\n",
       "      <td>US</td>\n",
       "      <td>2018-05-18</td>\n",
       "      <td>USD</td>\n",
       "      <td>2018-06-17</td>\n",
       "      <td>1.000000</td>\n",
       "      <td>30000.0</td>\n",
       "      <td>Los Angeles, CA</td>\n",
       "      <td>2.0</td>\n",
       "      <td>False</td>\n",
       "      <td>failed</td>\n",
       "      <td>30</td>\n",
       "      <td>18</td>\n",
       "      <td>America</td>\n",
       "      <td>Los Angeles</td>\n",
       "      <td>CA</td>\n",
       "    </tr>\n",
       "  </tbody>\n",
       "</table>\n",
       "</div>"
      ],
      "text/plain": [
       "   backers_count category country  created_at currency    deadline   fx_rate  \\\n",
       "0              0     film      GB  2017-01-11      GBP  2017-02-15  1.261110   \n",
       "1             12   crafts      CA  2016-02-28      CAD  2016-03-29  0.748587   \n",
       "2              1    games      AU  2016-02-13      AUD  2016-03-19  0.722499   \n",
       "3              3  fashion      US  2015-05-25      USD  2015-07-01  1.000000   \n",
       "4              2     film      US  2018-05-18      USD  2018-06-17  1.000000   \n",
       "\n",
       "      goal         location  pledged  staff_pick  status  duration  \\\n",
       "0  40000.0       London, UK      0.0       False  failed        35   \n",
       "1   5000.0   London, Canada    357.0       False  failed        30   \n",
       "2   5000.0        Perth, AU      1.0       False  failed        35   \n",
       "3   1900.0       Austin, TX     49.0       False  failed        37   \n",
       "4  30000.0  Los Angeles, CA      2.0       False  failed        30   \n",
       "\n",
       "   created_day continent         city   state  \n",
       "0           11    Europe       London      UK  \n",
       "1           28   America       London  Canada  \n",
       "2           13   Oceania        Perth      AU  \n",
       "3           25   America       Austin      TX  \n",
       "4           18   America  Los Angeles      CA  "
      ]
     },
     "execution_count": 4,
     "metadata": {},
     "output_type": "execute_result"
    }
   ],
   "source": [
    "df.head()"
   ]
  },
  {
   "cell_type": "code",
   "execution_count": 5,
   "metadata": {},
   "outputs": [],
   "source": [
    "#对标称属性进行独热编码，转变为数值属性\n",
    "le =LabelEncoder()"
   ]
  },
  {
   "cell_type": "code",
   "execution_count": 6,
   "metadata": {},
   "outputs": [],
   "source": [
    "df['backers_count'] =le.fit_transform(df['backers_count'].values)\n",
    "df['category'] =le.fit_transform(df['category'].values)\n",
    "df['country'] =le.fit_transform(df['country'].values)\n",
    "df['currency'] =le.fit_transform(df['currency'].values)\n",
    "df['staff_pick'] =le.fit_transform(df['staff_pick'].values)\n",
    "df['status'] =le.fit_transform(df['status'].values)\n",
    "df['duration'] =le.fit_transform(df['duration'].values)\n",
    "df['created_day'] =le.fit_transform(df['created_day'].values)\n",
    "df['continent'] =le.fit_transform(df['continent'].values)\n",
    "df['city'] =le.fit_transform(df['city'].values)\n",
    "df['state'] =le.fit_transform(df['state'].values)"
   ]
  },
  {
   "cell_type": "code",
   "execution_count": 7,
   "metadata": {},
   "outputs": [],
   "source": [
    "#对类别信息进行处理\n",
    "df['continent'] = to_categorical(df['continent']) \n",
    "df['category'] =to_categorical(df['category'])\n",
    "df['country'] =to_categorical(df['country'])\n",
    "df['city'] =to_categorical(df['city'])\n",
    "df['state'] =to_categorical(df['state'])\n",
    "df['currency'] =to_categorical(df['currency'])"
   ]
  },
  {
   "cell_type": "code",
   "execution_count": 8,
   "metadata": {},
   "outputs": [
    {
     "data": {
      "text/html": [
       "<div>\n",
       "<style scoped>\n",
       "    .dataframe tbody tr th:only-of-type {\n",
       "        vertical-align: middle;\n",
       "    }\n",
       "\n",
       "    .dataframe tbody tr th {\n",
       "        vertical-align: top;\n",
       "    }\n",
       "\n",
       "    .dataframe thead th {\n",
       "        text-align: right;\n",
       "    }\n",
       "</style>\n",
       "<table border=\"1\" class=\"dataframe\">\n",
       "  <thead>\n",
       "    <tr style=\"text-align: right;\">\n",
       "      <th></th>\n",
       "      <th>backers_count</th>\n",
       "      <th>category</th>\n",
       "      <th>country</th>\n",
       "      <th>created_at</th>\n",
       "      <th>currency</th>\n",
       "      <th>deadline</th>\n",
       "      <th>fx_rate</th>\n",
       "      <th>goal</th>\n",
       "      <th>location</th>\n",
       "      <th>pledged</th>\n",
       "      <th>staff_pick</th>\n",
       "      <th>status</th>\n",
       "      <th>duration</th>\n",
       "      <th>created_day</th>\n",
       "      <th>continent</th>\n",
       "      <th>city</th>\n",
       "      <th>state</th>\n",
       "    </tr>\n",
       "  </thead>\n",
       "  <tbody>\n",
       "    <tr>\n",
       "      <th>0</th>\n",
       "      <td>0</td>\n",
       "      <td>0.0</td>\n",
       "      <td>0.0</td>\n",
       "      <td>2017-01-11</td>\n",
       "      <td>0.0</td>\n",
       "      <td>2017-02-15</td>\n",
       "      <td>1.261110</td>\n",
       "      <td>40000.0</td>\n",
       "      <td>London, UK</td>\n",
       "      <td>0.0</td>\n",
       "      <td>0</td>\n",
       "      <td>0</td>\n",
       "      <td>34</td>\n",
       "      <td>10</td>\n",
       "      <td>0.0</td>\n",
       "      <td>0.0</td>\n",
       "      <td>0.0</td>\n",
       "    </tr>\n",
       "    <tr>\n",
       "      <th>1</th>\n",
       "      <td>12</td>\n",
       "      <td>0.0</td>\n",
       "      <td>0.0</td>\n",
       "      <td>2016-02-28</td>\n",
       "      <td>0.0</td>\n",
       "      <td>2016-03-29</td>\n",
       "      <td>0.748587</td>\n",
       "      <td>5000.0</td>\n",
       "      <td>London, Canada</td>\n",
       "      <td>357.0</td>\n",
       "      <td>0</td>\n",
       "      <td>0</td>\n",
       "      <td>29</td>\n",
       "      <td>27</td>\n",
       "      <td>1.0</td>\n",
       "      <td>0.0</td>\n",
       "      <td>0.0</td>\n",
       "    </tr>\n",
       "    <tr>\n",
       "      <th>2</th>\n",
       "      <td>1</td>\n",
       "      <td>0.0</td>\n",
       "      <td>0.0</td>\n",
       "      <td>2016-02-13</td>\n",
       "      <td>1.0</td>\n",
       "      <td>2016-03-19</td>\n",
       "      <td>0.722499</td>\n",
       "      <td>5000.0</td>\n",
       "      <td>Perth, AU</td>\n",
       "      <td>1.0</td>\n",
       "      <td>0</td>\n",
       "      <td>0</td>\n",
       "      <td>34</td>\n",
       "      <td>12</td>\n",
       "      <td>0.0</td>\n",
       "      <td>0.0</td>\n",
       "      <td>0.0</td>\n",
       "    </tr>\n",
       "    <tr>\n",
       "      <th>3</th>\n",
       "      <td>3</td>\n",
       "      <td>0.0</td>\n",
       "      <td>0.0</td>\n",
       "      <td>2015-05-25</td>\n",
       "      <td>0.0</td>\n",
       "      <td>2015-07-01</td>\n",
       "      <td>1.000000</td>\n",
       "      <td>1900.0</td>\n",
       "      <td>Austin, TX</td>\n",
       "      <td>49.0</td>\n",
       "      <td>0</td>\n",
       "      <td>0</td>\n",
       "      <td>36</td>\n",
       "      <td>24</td>\n",
       "      <td>1.0</td>\n",
       "      <td>0.0</td>\n",
       "      <td>0.0</td>\n",
       "    </tr>\n",
       "    <tr>\n",
       "      <th>4</th>\n",
       "      <td>2</td>\n",
       "      <td>0.0</td>\n",
       "      <td>0.0</td>\n",
       "      <td>2018-05-18</td>\n",
       "      <td>0.0</td>\n",
       "      <td>2018-06-17</td>\n",
       "      <td>1.000000</td>\n",
       "      <td>30000.0</td>\n",
       "      <td>Los Angeles, CA</td>\n",
       "      <td>2.0</td>\n",
       "      <td>0</td>\n",
       "      <td>0</td>\n",
       "      <td>29</td>\n",
       "      <td>17</td>\n",
       "      <td>1.0</td>\n",
       "      <td>0.0</td>\n",
       "      <td>0.0</td>\n",
       "    </tr>\n",
       "  </tbody>\n",
       "</table>\n",
       "</div>"
      ],
      "text/plain": [
       "   backers_count  category  country  created_at  currency    deadline  \\\n",
       "0              0       0.0      0.0  2017-01-11       0.0  2017-02-15   \n",
       "1             12       0.0      0.0  2016-02-28       0.0  2016-03-29   \n",
       "2              1       0.0      0.0  2016-02-13       1.0  2016-03-19   \n",
       "3              3       0.0      0.0  2015-05-25       0.0  2015-07-01   \n",
       "4              2       0.0      0.0  2018-05-18       0.0  2018-06-17   \n",
       "\n",
       "    fx_rate     goal         location  pledged  staff_pick  status  duration  \\\n",
       "0  1.261110  40000.0       London, UK      0.0           0       0        34   \n",
       "1  0.748587   5000.0   London, Canada    357.0           0       0        29   \n",
       "2  0.722499   5000.0        Perth, AU      1.0           0       0        34   \n",
       "3  1.000000   1900.0       Austin, TX     49.0           0       0        36   \n",
       "4  1.000000  30000.0  Los Angeles, CA      2.0           0       0        29   \n",
       "\n",
       "   created_day  continent  city  state  \n",
       "0           10        0.0   0.0    0.0  \n",
       "1           27        1.0   0.0    0.0  \n",
       "2           12        0.0   0.0    0.0  \n",
       "3           24        1.0   0.0    0.0  \n",
       "4           17        1.0   0.0    0.0  "
      ]
     },
     "execution_count": 8,
     "metadata": {},
     "output_type": "execute_result"
    }
   ],
   "source": [
    "df.head()"
   ]
  },
  {
   "cell_type": "code",
   "execution_count": 9,
   "metadata": {},
   "outputs": [],
   "source": [
    "#对goal取对数\n",
    "df['goal'] =np.log10(df.goal)\n",
    "# df['city'] = np.log10(df.city)"
   ]
  },
  {
   "cell_type": "code",
   "execution_count": 10,
   "metadata": {},
   "outputs": [
    {
     "data": {
      "text/html": [
       "<div>\n",
       "<style scoped>\n",
       "    .dataframe tbody tr th:only-of-type {\n",
       "        vertical-align: middle;\n",
       "    }\n",
       "\n",
       "    .dataframe tbody tr th {\n",
       "        vertical-align: top;\n",
       "    }\n",
       "\n",
       "    .dataframe thead th {\n",
       "        text-align: right;\n",
       "    }\n",
       "</style>\n",
       "<table border=\"1\" class=\"dataframe\">\n",
       "  <thead>\n",
       "    <tr style=\"text-align: right;\">\n",
       "      <th></th>\n",
       "      <th>backers_count</th>\n",
       "      <th>category</th>\n",
       "      <th>country</th>\n",
       "      <th>created_at</th>\n",
       "      <th>currency</th>\n",
       "      <th>deadline</th>\n",
       "      <th>fx_rate</th>\n",
       "      <th>goal</th>\n",
       "      <th>location</th>\n",
       "      <th>pledged</th>\n",
       "      <th>staff_pick</th>\n",
       "      <th>status</th>\n",
       "      <th>duration</th>\n",
       "      <th>created_day</th>\n",
       "      <th>continent</th>\n",
       "      <th>city</th>\n",
       "      <th>state</th>\n",
       "    </tr>\n",
       "  </thead>\n",
       "  <tbody>\n",
       "    <tr>\n",
       "      <th>0</th>\n",
       "      <td>0</td>\n",
       "      <td>0.0</td>\n",
       "      <td>0.0</td>\n",
       "      <td>2017-01-11</td>\n",
       "      <td>0.0</td>\n",
       "      <td>2017-02-15</td>\n",
       "      <td>1.261110</td>\n",
       "      <td>4.602060</td>\n",
       "      <td>London, UK</td>\n",
       "      <td>0.0</td>\n",
       "      <td>0</td>\n",
       "      <td>0</td>\n",
       "      <td>34</td>\n",
       "      <td>10</td>\n",
       "      <td>0.0</td>\n",
       "      <td>0.0</td>\n",
       "      <td>0.0</td>\n",
       "    </tr>\n",
       "    <tr>\n",
       "      <th>1</th>\n",
       "      <td>12</td>\n",
       "      <td>0.0</td>\n",
       "      <td>0.0</td>\n",
       "      <td>2016-02-28</td>\n",
       "      <td>0.0</td>\n",
       "      <td>2016-03-29</td>\n",
       "      <td>0.748587</td>\n",
       "      <td>3.698970</td>\n",
       "      <td>London, Canada</td>\n",
       "      <td>357.0</td>\n",
       "      <td>0</td>\n",
       "      <td>0</td>\n",
       "      <td>29</td>\n",
       "      <td>27</td>\n",
       "      <td>1.0</td>\n",
       "      <td>0.0</td>\n",
       "      <td>0.0</td>\n",
       "    </tr>\n",
       "    <tr>\n",
       "      <th>2</th>\n",
       "      <td>1</td>\n",
       "      <td>0.0</td>\n",
       "      <td>0.0</td>\n",
       "      <td>2016-02-13</td>\n",
       "      <td>1.0</td>\n",
       "      <td>2016-03-19</td>\n",
       "      <td>0.722499</td>\n",
       "      <td>3.698970</td>\n",
       "      <td>Perth, AU</td>\n",
       "      <td>1.0</td>\n",
       "      <td>0</td>\n",
       "      <td>0</td>\n",
       "      <td>34</td>\n",
       "      <td>12</td>\n",
       "      <td>0.0</td>\n",
       "      <td>0.0</td>\n",
       "      <td>0.0</td>\n",
       "    </tr>\n",
       "    <tr>\n",
       "      <th>3</th>\n",
       "      <td>3</td>\n",
       "      <td>0.0</td>\n",
       "      <td>0.0</td>\n",
       "      <td>2015-05-25</td>\n",
       "      <td>0.0</td>\n",
       "      <td>2015-07-01</td>\n",
       "      <td>1.000000</td>\n",
       "      <td>3.278754</td>\n",
       "      <td>Austin, TX</td>\n",
       "      <td>49.0</td>\n",
       "      <td>0</td>\n",
       "      <td>0</td>\n",
       "      <td>36</td>\n",
       "      <td>24</td>\n",
       "      <td>1.0</td>\n",
       "      <td>0.0</td>\n",
       "      <td>0.0</td>\n",
       "    </tr>\n",
       "    <tr>\n",
       "      <th>4</th>\n",
       "      <td>2</td>\n",
       "      <td>0.0</td>\n",
       "      <td>0.0</td>\n",
       "      <td>2018-05-18</td>\n",
       "      <td>0.0</td>\n",
       "      <td>2018-06-17</td>\n",
       "      <td>1.000000</td>\n",
       "      <td>4.477121</td>\n",
       "      <td>Los Angeles, CA</td>\n",
       "      <td>2.0</td>\n",
       "      <td>0</td>\n",
       "      <td>0</td>\n",
       "      <td>29</td>\n",
       "      <td>17</td>\n",
       "      <td>1.0</td>\n",
       "      <td>0.0</td>\n",
       "      <td>0.0</td>\n",
       "    </tr>\n",
       "  </tbody>\n",
       "</table>\n",
       "</div>"
      ],
      "text/plain": [
       "   backers_count  category  country  created_at  currency    deadline  \\\n",
       "0              0       0.0      0.0  2017-01-11       0.0  2017-02-15   \n",
       "1             12       0.0      0.0  2016-02-28       0.0  2016-03-29   \n",
       "2              1       0.0      0.0  2016-02-13       1.0  2016-03-19   \n",
       "3              3       0.0      0.0  2015-05-25       0.0  2015-07-01   \n",
       "4              2       0.0      0.0  2018-05-18       0.0  2018-06-17   \n",
       "\n",
       "    fx_rate      goal         location  pledged  staff_pick  status  duration  \\\n",
       "0  1.261110  4.602060       London, UK      0.0           0       0        34   \n",
       "1  0.748587  3.698970   London, Canada    357.0           0       0        29   \n",
       "2  0.722499  3.698970        Perth, AU      1.0           0       0        34   \n",
       "3  1.000000  3.278754       Austin, TX     49.0           0       0        36   \n",
       "4  1.000000  4.477121  Los Angeles, CA      2.0           0       0        29   \n",
       "\n",
       "   created_day  continent  city  state  \n",
       "0           10        0.0   0.0    0.0  \n",
       "1           27        1.0   0.0    0.0  \n",
       "2           12        0.0   0.0    0.0  \n",
       "3           24        1.0   0.0    0.0  \n",
       "4           17        1.0   0.0    0.0  "
      ]
     },
     "execution_count": 10,
     "metadata": {},
     "output_type": "execute_result"
    }
   ],
   "source": [
    "df.head()"
   ]
  },
  {
   "cell_type": "code",
   "execution_count": 11,
   "metadata": {},
   "outputs": [],
   "source": [
    "X= df.drop(['created_at', 'deadline',  'location', 'backers_count','staff_pick', 'status'],axis=1)\n",
    "y =df['status']"
   ]
  },
  {
   "cell_type": "code",
   "execution_count": 12,
   "metadata": {},
   "outputs": [
    {
     "data": {
      "text/html": [
       "<div>\n",
       "<style scoped>\n",
       "    .dataframe tbody tr th:only-of-type {\n",
       "        vertical-align: middle;\n",
       "    }\n",
       "\n",
       "    .dataframe tbody tr th {\n",
       "        vertical-align: top;\n",
       "    }\n",
       "\n",
       "    .dataframe thead th {\n",
       "        text-align: right;\n",
       "    }\n",
       "</style>\n",
       "<table border=\"1\" class=\"dataframe\">\n",
       "  <thead>\n",
       "    <tr style=\"text-align: right;\">\n",
       "      <th></th>\n",
       "      <th>category</th>\n",
       "      <th>country</th>\n",
       "      <th>currency</th>\n",
       "      <th>fx_rate</th>\n",
       "      <th>goal</th>\n",
       "      <th>pledged</th>\n",
       "      <th>duration</th>\n",
       "      <th>created_day</th>\n",
       "      <th>continent</th>\n",
       "      <th>city</th>\n",
       "      <th>state</th>\n",
       "    </tr>\n",
       "  </thead>\n",
       "  <tbody>\n",
       "    <tr>\n",
       "      <th>0</th>\n",
       "      <td>0.0</td>\n",
       "      <td>0.0</td>\n",
       "      <td>0.0</td>\n",
       "      <td>1.261110</td>\n",
       "      <td>4.602060</td>\n",
       "      <td>0.0</td>\n",
       "      <td>34</td>\n",
       "      <td>10</td>\n",
       "      <td>0.0</td>\n",
       "      <td>0.0</td>\n",
       "      <td>0.0</td>\n",
       "    </tr>\n",
       "    <tr>\n",
       "      <th>1</th>\n",
       "      <td>0.0</td>\n",
       "      <td>0.0</td>\n",
       "      <td>0.0</td>\n",
       "      <td>0.748587</td>\n",
       "      <td>3.698970</td>\n",
       "      <td>357.0</td>\n",
       "      <td>29</td>\n",
       "      <td>27</td>\n",
       "      <td>1.0</td>\n",
       "      <td>0.0</td>\n",
       "      <td>0.0</td>\n",
       "    </tr>\n",
       "    <tr>\n",
       "      <th>2</th>\n",
       "      <td>0.0</td>\n",
       "      <td>0.0</td>\n",
       "      <td>1.0</td>\n",
       "      <td>0.722499</td>\n",
       "      <td>3.698970</td>\n",
       "      <td>1.0</td>\n",
       "      <td>34</td>\n",
       "      <td>12</td>\n",
       "      <td>0.0</td>\n",
       "      <td>0.0</td>\n",
       "      <td>0.0</td>\n",
       "    </tr>\n",
       "    <tr>\n",
       "      <th>3</th>\n",
       "      <td>0.0</td>\n",
       "      <td>0.0</td>\n",
       "      <td>0.0</td>\n",
       "      <td>1.000000</td>\n",
       "      <td>3.278754</td>\n",
       "      <td>49.0</td>\n",
       "      <td>36</td>\n",
       "      <td>24</td>\n",
       "      <td>1.0</td>\n",
       "      <td>0.0</td>\n",
       "      <td>0.0</td>\n",
       "    </tr>\n",
       "    <tr>\n",
       "      <th>4</th>\n",
       "      <td>0.0</td>\n",
       "      <td>0.0</td>\n",
       "      <td>0.0</td>\n",
       "      <td>1.000000</td>\n",
       "      <td>4.477121</td>\n",
       "      <td>2.0</td>\n",
       "      <td>29</td>\n",
       "      <td>17</td>\n",
       "      <td>1.0</td>\n",
       "      <td>0.0</td>\n",
       "      <td>0.0</td>\n",
       "    </tr>\n",
       "  </tbody>\n",
       "</table>\n",
       "</div>"
      ],
      "text/plain": [
       "   category  country  currency   fx_rate      goal  pledged  duration  \\\n",
       "0       0.0      0.0       0.0  1.261110  4.602060      0.0        34   \n",
       "1       0.0      0.0       0.0  0.748587  3.698970    357.0        29   \n",
       "2       0.0      0.0       1.0  0.722499  3.698970      1.0        34   \n",
       "3       0.0      0.0       0.0  1.000000  3.278754     49.0        36   \n",
       "4       0.0      0.0       0.0  1.000000  4.477121      2.0        29   \n",
       "\n",
       "   created_day  continent  city  state  \n",
       "0           10        0.0   0.0    0.0  \n",
       "1           27        1.0   0.0    0.0  \n",
       "2           12        0.0   0.0    0.0  \n",
       "3           24        1.0   0.0    0.0  \n",
       "4           17        1.0   0.0    0.0  "
      ]
     },
     "execution_count": 12,
     "metadata": {},
     "output_type": "execute_result"
    }
   ],
   "source": [
    "X.head()"
   ]
  },
  {
   "cell_type": "markdown",
   "metadata": {},
   "source": [
    "    使用KNN来训练模型"
   ]
  },
  {
   "cell_type": "code",
   "execution_count": 13,
   "metadata": {},
   "outputs": [],
   "source": [
    "X_train, X_test, y_train, y_test =train_test_split(X, y, test_size =0.2, random_state =1 )"
   ]
  },
  {
   "cell_type": "code",
   "execution_count": 14,
   "metadata": {},
   "outputs": [
    {
     "name": "stdout",
     "output_type": "stream",
     "text": [
      "1\n",
      "2\n",
      "3\n",
      "4\n",
      "5\n",
      "6\n",
      "7\n",
      "8\n",
      "9\n",
      "10\n",
      "11\n",
      "12\n",
      "13\n",
      "14\n",
      "15\n",
      "16\n",
      "17\n",
      "18\n",
      "19\n",
      "20\n",
      "21\n",
      "22\n",
      "23\n",
      "24\n",
      "25\n",
      "26\n",
      "27\n",
      "28\n",
      "29\n",
      "30\n",
      "31\n",
      "32\n",
      "33\n",
      "34\n",
      "35\n",
      "36\n",
      "37\n",
      "38\n",
      "39\n",
      "40\n",
      "41\n",
      "42\n",
      "43\n",
      "44\n",
      "45\n",
      "46\n",
      "47\n",
      "48\n",
      "49\n",
      "50\n",
      "[0.814590900652471, 0.778349029530786, 0.8331635220738489, 0.8209969498239328, 0.8407543756023121, 0.8351110554384669, 0.8446497149100134, 0.8419043610426774, 0.8459403086303292, 0.8443446882857056, 0.847571137481881, 0.8465621072211004, 0.8486387650773652, 0.847758862056955, 0.8494952476100931, 0.8493896743906459, 0.8499292996036985, 0.8494600280875962, 0.850246070198223, 0.8503986096662143, 0.8506567251052839, 0.8504455483810058, 0.85139584914998, 0.8512902649172254, 0.8514427796063254, 0.8515249282070909, 0.851841679527278, 0.8517126541592726, 0.8520998252536692, 0.8517478406428168, 0.8519120910423956, 0.8514897430980699, 0.851607075431718, 0.8517126679248568, 0.8517361104388304, 0.8517830684260211, 0.8515132021305508, 0.8517830656730979, 0.8518769224541429, 0.851372460324143, 0.8515014884470096, 0.8518534303820635, 0.8516774786864513, 0.8516540210304321, 0.8514428153969089, 0.8514545483547875, 0.8516422316324629, 0.8516657471079414, 0.851325494076891, 0.8513841974126983]\n",
      "运行时间: 200.1527 s\n"
     ]
    }
   ],
   "source": [
    "#10倍交叉验证的KNN\n",
    "##\n",
    "# start_time =time.time()\n",
    "# k_range =range(1, 51)\n",
    "# k_scores =[]\n",
    "# for k in k_range:\n",
    "#     print(k)\n",
    "#     knn =KNeighborsClassifier(n_neighbors=k)\n",
    "#     scores = cross_val_score(knn, X, y, cv=10, scoring = 'accuracy')\n",
    "#     k_scores.append(scores.mean())\n",
    "# print(k_scores)\n",
    "# end_time =time.time()\n",
    "# dtime =end_time -start_time\n",
    "# print('运行时间: %.8s s'%dtime)"
   ]
  },
  {
   "cell_type": "code",
   "execution_count": 15,
   "metadata": {},
   "outputs": [
    {
     "data": {
      "text/plain": [
       "0.8513841974126983"
      ]
     },
     "execution_count": 15,
     "metadata": {},
     "output_type": "execute_result"
    }
   ],
   "source": [
    "##\n",
    "# scores.mean()"
   ]
  },
  {
   "cell_type": "code",
   "execution_count": 16,
   "metadata": {},
   "outputs": [
    {
     "data": {
      "text/plain": [
       "0.8520998252536692"
      ]
     },
     "execution_count": 16,
     "metadata": {},
     "output_type": "execute_result"
    }
   ],
   "source": [
    "##\n",
    "# max(k_scores)"
   ]
  },
  {
   "cell_type": "code",
   "execution_count": 17,
   "metadata": {},
   "outputs": [
    {
     "data": {
      "text/plain": [
       "Text(0.5, 1.0, 'the accuracy of each K')"
      ]
     },
     "execution_count": 17,
     "metadata": {},
     "output_type": "execute_result"
    },
    {
     "data": {
      "image/png": "[encoded data removed]",
      "text/plain": [
       "<Figure size 1080x576 with 1 Axes>"
      ]
     },
     "metadata": {
      "needs_background": "light"
     },
     "output_type": "display_data"
    }
   ],
   "source": [
    "# plt.plot(k_range, k_scores, color ='g')\n",
    "##\n",
    "# fig =plt.figure(figsize=(15,8))\n",
    "# ax =plt.axes()\n",
    "# ax.plot(k_range, k_scores, color ='g')\n",
    "# ax.set_xlabel('value of k for knn')\n",
    "# ax.set_ylabel('cross-validated accuracy')\n",
    "# ax.set_title('the accuracy of each K')"
   ]
  },
  {
   "cell_type": "code",
   "execution_count": 18,
   "metadata": {},
   "outputs": [
    {
     "name": "stdout",
     "output_type": "stream",
     "text": [
      "The optimal number of neighbors is 29\n"
     ]
    }
   ],
   "source": [
    "#找出最佳k值\n",
    "##\n",
    "# MSE = [1 - x for x in k_scores]\n",
    "# optimal_k = k_range[MSE.index(min(MSE))]\n",
    "# print ('The optimal number of neighbors is %d' % optimal_k)"
   ]
  },
  {
   "cell_type": "code",
   "execution_count": 35,
   "metadata": {},
   "outputs": [
    {
     "name": "stdout",
     "output_type": "stream",
     "text": [
      "scores:0.852 \n"
     ]
    }
   ],
   "source": [
    "knn =KNeighborsClassifier(n_neighbors=29)\n",
    "scores = cross_val_score(knn, X, y, cv=10, scoring = 'accuracy').mean()\n",
    "print(\"scores:%.3f \"%scores)"
   ]
  },
  {
   "cell_type": "code",
   "execution_count": 36,
   "metadata": {},
   "outputs": [
    {
     "data": {
      "text/plain": [
       "KNeighborsClassifier(algorithm='auto', leaf_size=30, metric='minkowski',\n",
       "           metric_params=None, n_jobs=None, n_neighbors=29, p=2,\n",
       "           weights='uniform')"
      ]
     },
     "execution_count": 36,
     "metadata": {},
     "output_type": "execute_result"
    }
   ],
   "source": [
    "knn.fit(X, y)"
   ]
  },
  {
   "cell_type": "code",
   "execution_count": 37,
   "metadata": {},
   "outputs": [],
   "source": [
    "knn_pre =knn.predict(X_test)"
   ]
  },
  {
   "cell_type": "code",
   "execution_count": 38,
   "metadata": {},
   "outputs": [
    {
     "data": {
      "text/plain": [
       "0.8545198568663108"
      ]
     },
     "execution_count": 38,
     "metadata": {},
     "output_type": "execute_result"
    }
   ],
   "source": [
    "accuracy_score(y_test, knn_pre)"
   ]
  },
  {
   "cell_type": "code",
   "execution_count": 39,
   "metadata": {},
   "outputs": [
    {
     "data": {
      "text/plain": [
       "0.8599712550963541"
      ]
     },
     "execution_count": 39,
     "metadata": {},
     "output_type": "execute_result"
    }
   ],
   "source": [
    "knn.score(X_train, y_train)"
   ]
  },
  {
   "cell_type": "code",
   "execution_count": 40,
   "metadata": {},
   "outputs": [
    {
     "data": {
      "text/plain": [
       "0.8545198568663108"
      ]
     },
     "execution_count": 40,
     "metadata": {},
     "output_type": "execute_result"
    }
   ],
   "source": [
    "knn.score(X_test,y_test)"
   ]
  },
  {
   "cell_type": "code",
   "execution_count": 41,
   "metadata": {},
   "outputs": [
    {
     "name": "stdout",
     "output_type": "stream",
     "text": [
      "the f1_score of  KNN: 0.8542154246782638\n",
      "the precision_score of KNN: 0.8584042966664888\n",
      "the recall_score of KNN: 0.8549146178836926\n"
     ]
    }
   ],
   "source": [
    "print('the f1_score of  KNN:',f1_score(y_test, knn_pre, average=\"macro\"))\n",
    "print('the precision_score of KNN:', precision_score(y_test, knn_pre, average=\"macro\"))\n",
    "print('the recall_score of KNN:',recall_score(y_test, knn_pre, average=\"macro\")) "
   ]
  },
  {
   "cell_type": "code",
   "execution_count": 42,
   "metadata": {},
   "outputs": [],
   "source": [
    "fpr_knn, tpr_knn, thrsholds_knn =roc_curve(y_test, knn.predict_proba(X_test)[:,1])"
   ]
  },
  {
   "cell_type": "code",
   "execution_count": 43,
   "metadata": {},
   "outputs": [
    {
     "data": {
      "text/plain": [
       "<matplotlib.legend.Legend at 0x1a3dfbf6d8>"
      ]
     },
     "execution_count": 43,
     "metadata": {},
     "output_type": "execute_result"
    },
    {
     "data": {
      "image/png": "[encoded data removed]",
      "text/plain": [
       "<Figure size 432x288 with 1 Axes>"
      ]
     },
     "metadata": {
      "needs_background": "light"
     },
     "output_type": "display_data"
    }
   ],
   "source": [
    "plt.plot(fpr_knn, tpr_knn, label =' Roc curve KNN', color='b')\n",
    "plt.xlabel('FPR')\n",
    "plt.ylabel('TPR')\n",
    "plt.title(' Roc curve of Logistic_Regression')\n",
    "# plt.plot(fpr[close_zero], tpr[close_zero], 'o', marksize =10, label ='thrshold zero rf', fillstyle = 'none', c ='k', mew =2)\n",
    "plt.legend(loc =4)"
   ]
  },
  {
   "cell_type": "code",
   "execution_count": 44,
   "metadata": {},
   "outputs": [
    {
     "name": "stdout",
     "output_type": "stream",
     "text": [
      "auc of KNN 0.9306489828771047\n"
     ]
    }
   ],
   "source": [
    "print('auc of KNN', auc(fpr_knn, tpr_knn))"
   ]
  },
  {
   "cell_type": "code",
   "execution_count": null,
   "metadata": {},
   "outputs": [],
   "source": []
  }
 ],
 "metadata": {
  "kernelspec": {
   "display_name": "Python 3",
   "language": "python",
   "name": "python3"
  },
  "language_info": {
   "codemirror_mode": {
    "name": "ipython",
    "version": 3
   },
   "file_extension": ".py",
   "mimetype": "text/x-python",
   "name": "python",
   "nbconvert_exporter": "python",
   "pygments_lexer": "ipython3",
   "version": "3.6.8"
  }
 },
 "nbformat": 4,
 "nbformat_minor": 2
}
