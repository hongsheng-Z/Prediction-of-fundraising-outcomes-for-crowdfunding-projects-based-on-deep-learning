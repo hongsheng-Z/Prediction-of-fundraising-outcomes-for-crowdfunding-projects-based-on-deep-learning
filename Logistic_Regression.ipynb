{
 "cells": [
  {
   "cell_type": "code",
   "execution_count": 1,
   "metadata": {},
   "outputs": [
    {
     "name": "stderr",
     "output_type": "stream",
     "text": [
      "Using TensorFlow backend.\n"
     ]
    }
   ],
   "source": [
    "import os\n",
    "import pandas as pd\n",
    "import numpy as np\n",
    "import seaborn as sns\n",
    "import time\n",
    "import matplotlib.pyplot as plt\n",
    "\n",
    "from sklearn.pipeline import Pipeline, FeatureUnion, make_pipeline\n",
    "from sklearn.model_selection import train_test_split, KFold,cross_validate,cross_val_score\n",
    "from sklearn.preprocessing import StandardScaler\n",
    "from sklearn.linear_model import LogisticRegression,LogisticRegressionCV\n",
    "from keras.utils.np_utils import to_categorical\n",
    "\n",
    "%matplotlib inline"
   ]
  },
  {
   "cell_type": "code",
   "execution_count": 2,
   "metadata": {},
   "outputs": [],
   "source": [
    "path = os.getcwd()"
   ]
  },
  {
   "cell_type": "code",
   "execution_count": 3,
   "metadata": {},
   "outputs": [],
   "source": [
    "df =pd.read_csv(path +'/Kickstarter/cleaned_kick_data01.csv')"
   ]
  },
  {
   "cell_type": "code",
   "execution_count": 4,
   "metadata": {},
   "outputs": [
    {
     "data": {
      "text/plain": [
       "(85233, 17)"
      ]
     },
     "execution_count": 4,
     "metadata": {},
     "output_type": "execute_result"
    }
   ],
   "source": [
    "df.shape"
   ]
  },
  {
   "cell_type": "code",
   "execution_count": 5,
   "metadata": {},
   "outputs": [
    {
     "data": {
      "text/html": [
       "<div>\n",
       "<style scoped>\n",
       "    .dataframe tbody tr th:only-of-type {\n",
       "        vertical-align: middle;\n",
       "    }\n",
       "\n",
       "    .dataframe tbody tr th {\n",
       "        vertical-align: top;\n",
       "    }\n",
       "\n",
       "    .dataframe thead th {\n",
       "        text-align: right;\n",
       "    }\n",
       "</style>\n",
       "<table border=\"1\" class=\"dataframe\">\n",
       "  <thead>\n",
       "    <tr style=\"text-align: right;\">\n",
       "      <th></th>\n",
       "      <th>backers_count</th>\n",
       "      <th>category</th>\n",
       "      <th>country</th>\n",
       "      <th>created_at</th>\n",
       "      <th>currency</th>\n",
       "      <th>deadline</th>\n",
       "      <th>fx_rate</th>\n",
       "      <th>goal</th>\n",
       "      <th>location</th>\n",
       "      <th>pledged</th>\n",
       "      <th>staff_pick</th>\n",
       "      <th>status</th>\n",
       "      <th>duration</th>\n",
       "      <th>created_day</th>\n",
       "      <th>continent</th>\n",
       "      <th>city</th>\n",
       "      <th>state</th>\n",
       "    </tr>\n",
       "  </thead>\n",
       "  <tbody>\n",
       "    <tr>\n",
       "      <th>0</th>\n",
       "      <td>0</td>\n",
       "      <td>film</td>\n",
       "      <td>GB</td>\n",
       "      <td>2017-01-11</td>\n",
       "      <td>GBP</td>\n",
       "      <td>2017-02-15</td>\n",
       "      <td>1.261110</td>\n",
       "      <td>40000.0</td>\n",
       "      <td>London, UK</td>\n",
       "      <td>0.0</td>\n",
       "      <td>False</td>\n",
       "      <td>failed</td>\n",
       "      <td>35</td>\n",
       "      <td>11</td>\n",
       "      <td>Europe</td>\n",
       "      <td>London</td>\n",
       "      <td>UK</td>\n",
       "    </tr>\n",
       "    <tr>\n",
       "      <th>1</th>\n",
       "      <td>12</td>\n",
       "      <td>crafts</td>\n",
       "      <td>CA</td>\n",
       "      <td>2016-02-28</td>\n",
       "      <td>CAD</td>\n",
       "      <td>2016-03-29</td>\n",
       "      <td>0.748587</td>\n",
       "      <td>5000.0</td>\n",
       "      <td>London, Canada</td>\n",
       "      <td>357.0</td>\n",
       "      <td>False</td>\n",
       "      <td>failed</td>\n",
       "      <td>30</td>\n",
       "      <td>28</td>\n",
       "      <td>America</td>\n",
       "      <td>London</td>\n",
       "      <td>Canada</td>\n",
       "    </tr>\n",
       "    <tr>\n",
       "      <th>2</th>\n",
       "      <td>1</td>\n",
       "      <td>games</td>\n",
       "      <td>AU</td>\n",
       "      <td>2016-02-13</td>\n",
       "      <td>AUD</td>\n",
       "      <td>2016-03-19</td>\n",
       "      <td>0.722499</td>\n",
       "      <td>5000.0</td>\n",
       "      <td>Perth, AU</td>\n",
       "      <td>1.0</td>\n",
       "      <td>False</td>\n",
       "      <td>failed</td>\n",
       "      <td>35</td>\n",
       "      <td>13</td>\n",
       "      <td>Oceania</td>\n",
       "      <td>Perth</td>\n",
       "      <td>AU</td>\n",
       "    </tr>\n",
       "    <tr>\n",
       "      <th>3</th>\n",
       "      <td>3</td>\n",
       "      <td>fashion</td>\n",
       "      <td>US</td>\n",
       "      <td>2015-05-25</td>\n",
       "      <td>USD</td>\n",
       "      <td>2015-07-01</td>\n",
       "      <td>1.000000</td>\n",
       "      <td>1900.0</td>\n",
       "      <td>Austin, TX</td>\n",
       "      <td>49.0</td>\n",
       "      <td>False</td>\n",
       "      <td>failed</td>\n",
       "      <td>37</td>\n",
       "      <td>25</td>\n",
       "      <td>America</td>\n",
       "      <td>Austin</td>\n",
       "      <td>TX</td>\n",
       "    </tr>\n",
       "    <tr>\n",
       "      <th>4</th>\n",
       "      <td>2</td>\n",
       "      <td>film</td>\n",
       "      <td>US</td>\n",
       "      <td>2018-05-18</td>\n",
       "      <td>USD</td>\n",
       "      <td>2018-06-17</td>\n",
       "      <td>1.000000</td>\n",
       "      <td>30000.0</td>\n",
       "      <td>Los Angeles, CA</td>\n",
       "      <td>2.0</td>\n",
       "      <td>False</td>\n",
       "      <td>failed</td>\n",
       "      <td>30</td>\n",
       "      <td>18</td>\n",
       "      <td>America</td>\n",
       "      <td>Los Angeles</td>\n",
       "      <td>CA</td>\n",
       "    </tr>\n",
       "  </tbody>\n",
       "</table>\n",
       "</div>"
      ],
      "text/plain": [
       "   backers_count category country  created_at currency    deadline   fx_rate  \\\n",
       "0              0     film      GB  2017-01-11      GBP  2017-02-15  1.261110   \n",
       "1             12   crafts      CA  2016-02-28      CAD  2016-03-29  0.748587   \n",
       "2              1    games      AU  2016-02-13      AUD  2016-03-19  0.722499   \n",
       "3              3  fashion      US  2015-05-25      USD  2015-07-01  1.000000   \n",
       "4              2     film      US  2018-05-18      USD  2018-06-17  1.000000   \n",
       "\n",
       "      goal         location  pledged  staff_pick  status  duration  \\\n",
       "0  40000.0       London, UK      0.0       False  failed        35   \n",
       "1   5000.0   London, Canada    357.0       False  failed        30   \n",
       "2   5000.0        Perth, AU      1.0       False  failed        35   \n",
       "3   1900.0       Austin, TX     49.0       False  failed        37   \n",
       "4  30000.0  Los Angeles, CA      2.0       False  failed        30   \n",
       "\n",
       "   created_day continent         city   state  \n",
       "0           11    Europe       London      UK  \n",
       "1           28   America       London  Canada  \n",
       "2           13   Oceania        Perth      AU  \n",
       "3           25   America       Austin      TX  \n",
       "4           18   America  Los Angeles      CA  "
      ]
     },
     "execution_count": 5,
     "metadata": {},
     "output_type": "execute_result"
    }
   ],
   "source": [
    "df.head()"
   ]
  },
  {
   "cell_type": "code",
   "execution_count": 6,
   "metadata": {},
   "outputs": [
    {
     "data": {
      "text/plain": [
       "successful    42927\n",
       "failed        42306\n",
       "Name: status, dtype: int64"
      ]
     },
     "execution_count": 6,
     "metadata": {},
     "output_type": "execute_result"
    }
   ],
   "source": [
    "df.status.value_counts()"
   ]
  },
  {
   "cell_type": "code",
   "execution_count": 7,
   "metadata": {},
   "outputs": [],
   "source": [
    "#对标称属性进行独热编码，转化为数值属性\n",
    "from sklearn.preprocessing import LabelEncoder, OneHotEncoder\n",
    "le = LabelEncoder()\n",
    "oh = OneHotEncoder()\n",
    "df['backers_count'] =le.fit_transform(df['backers_count'].values)\n",
    "df['category'] =le.fit_transform(df['category'].values)\n",
    "df['country'] =le.fit_transform(df['country'].values)\n",
    "df['pledged'] =le.fit_transform(df['pledged'].values)\n",
    "# df['spotlight'] =le.fit_transform(df['spotlight'].values)\n",
    "df['staff_pick'] =le.fit_transform(df['staff_pick'].values)\n",
    "df['duration'] =le.fit_transform(df['duration'].values)\n",
    "df['continent'] =le.fit_transform(df['continent'].values)\n",
    "df['city'] =le.fit_transform(df['city'].values)\n",
    "df['state'] =le.fit_transform(df['state'].values)\n",
    "df['currency'] =le.fit_transform(df['currency'].values)"
   ]
  },
  {
   "cell_type": "code",
   "execution_count": 8,
   "metadata": {},
   "outputs": [],
   "source": [
    "#对类别信息进行处理\n",
    "df['continent'] = to_categorical(df['continent']) \n",
    "df['category'] =to_categorical(df['category'])\n",
    "df['country'] =to_categorical(df['country'])\n",
    "df['city'] =to_categorical(df['city'])\n",
    "df['state'] =to_categorical(df['state'])\n",
    "df['currency'] =to_categorical(df['currency'])"
   ]
  },
  {
   "cell_type": "code",
   "execution_count": 9,
   "metadata": {},
   "outputs": [
    {
     "data": {
      "text/html": [
       "<div>\n",
       "<style scoped>\n",
       "    .dataframe tbody tr th:only-of-type {\n",
       "        vertical-align: middle;\n",
       "    }\n",
       "\n",
       "    .dataframe tbody tr th {\n",
       "        vertical-align: top;\n",
       "    }\n",
       "\n",
       "    .dataframe thead th {\n",
       "        text-align: right;\n",
       "    }\n",
       "</style>\n",
       "<table border=\"1\" class=\"dataframe\">\n",
       "  <thead>\n",
       "    <tr style=\"text-align: right;\">\n",
       "      <th></th>\n",
       "      <th>backers_count</th>\n",
       "      <th>category</th>\n",
       "      <th>country</th>\n",
       "      <th>created_at</th>\n",
       "      <th>currency</th>\n",
       "      <th>deadline</th>\n",
       "      <th>fx_rate</th>\n",
       "      <th>goal</th>\n",
       "      <th>location</th>\n",
       "      <th>pledged</th>\n",
       "      <th>staff_pick</th>\n",
       "      <th>status</th>\n",
       "      <th>duration</th>\n",
       "      <th>created_day</th>\n",
       "      <th>continent</th>\n",
       "      <th>city</th>\n",
       "      <th>state</th>\n",
       "    </tr>\n",
       "  </thead>\n",
       "  <tbody>\n",
       "    <tr>\n",
       "      <th>0</th>\n",
       "      <td>0</td>\n",
       "      <td>0.0</td>\n",
       "      <td>0.0</td>\n",
       "      <td>2017-01-11</td>\n",
       "      <td>0.0</td>\n",
       "      <td>2017-02-15</td>\n",
       "      <td>1.261110</td>\n",
       "      <td>40000.0</td>\n",
       "      <td>London, UK</td>\n",
       "      <td>0</td>\n",
       "      <td>0</td>\n",
       "      <td>failed</td>\n",
       "      <td>34</td>\n",
       "      <td>11</td>\n",
       "      <td>0.0</td>\n",
       "      <td>0.0</td>\n",
       "      <td>0.0</td>\n",
       "    </tr>\n",
       "    <tr>\n",
       "      <th>1</th>\n",
       "      <td>12</td>\n",
       "      <td>0.0</td>\n",
       "      <td>0.0</td>\n",
       "      <td>2016-02-28</td>\n",
       "      <td>0.0</td>\n",
       "      <td>2016-03-29</td>\n",
       "      <td>0.748587</td>\n",
       "      <td>5000.0</td>\n",
       "      <td>London, Canada</td>\n",
       "      <td>717</td>\n",
       "      <td>0</td>\n",
       "      <td>failed</td>\n",
       "      <td>29</td>\n",
       "      <td>28</td>\n",
       "      <td>1.0</td>\n",
       "      <td>0.0</td>\n",
       "      <td>0.0</td>\n",
       "    </tr>\n",
       "    <tr>\n",
       "      <th>2</th>\n",
       "      <td>1</td>\n",
       "      <td>0.0</td>\n",
       "      <td>0.0</td>\n",
       "      <td>2016-02-13</td>\n",
       "      <td>1.0</td>\n",
       "      <td>2016-03-19</td>\n",
       "      <td>0.722499</td>\n",
       "      <td>5000.0</td>\n",
       "      <td>Perth, AU</td>\n",
       "      <td>1</td>\n",
       "      <td>0</td>\n",
       "      <td>failed</td>\n",
       "      <td>34</td>\n",
       "      <td>13</td>\n",
       "      <td>0.0</td>\n",
       "      <td>0.0</td>\n",
       "      <td>0.0</td>\n",
       "    </tr>\n",
       "    <tr>\n",
       "      <th>3</th>\n",
       "      <td>3</td>\n",
       "      <td>0.0</td>\n",
       "      <td>0.0</td>\n",
       "      <td>2015-05-25</td>\n",
       "      <td>0.0</td>\n",
       "      <td>2015-07-01</td>\n",
       "      <td>1.000000</td>\n",
       "      <td>1900.0</td>\n",
       "      <td>Austin, TX</td>\n",
       "      <td>166</td>\n",
       "      <td>0</td>\n",
       "      <td>failed</td>\n",
       "      <td>36</td>\n",
       "      <td>25</td>\n",
       "      <td>1.0</td>\n",
       "      <td>0.0</td>\n",
       "      <td>0.0</td>\n",
       "    </tr>\n",
       "    <tr>\n",
       "      <th>4</th>\n",
       "      <td>2</td>\n",
       "      <td>0.0</td>\n",
       "      <td>0.0</td>\n",
       "      <td>2018-05-18</td>\n",
       "      <td>0.0</td>\n",
       "      <td>2018-06-17</td>\n",
       "      <td>1.000000</td>\n",
       "      <td>30000.0</td>\n",
       "      <td>Los Angeles, CA</td>\n",
       "      <td>7</td>\n",
       "      <td>0</td>\n",
       "      <td>failed</td>\n",
       "      <td>29</td>\n",
       "      <td>18</td>\n",
       "      <td>1.0</td>\n",
       "      <td>0.0</td>\n",
       "      <td>0.0</td>\n",
       "    </tr>\n",
       "  </tbody>\n",
       "</table>\n",
       "</div>"
      ],
      "text/plain": [
       "   backers_count  category  country  created_at  currency    deadline  \\\n",
       "0              0       0.0      0.0  2017-01-11       0.0  2017-02-15   \n",
       "1             12       0.0      0.0  2016-02-28       0.0  2016-03-29   \n",
       "2              1       0.0      0.0  2016-02-13       1.0  2016-03-19   \n",
       "3              3       0.0      0.0  2015-05-25       0.0  2015-07-01   \n",
       "4              2       0.0      0.0  2018-05-18       0.0  2018-06-17   \n",
       "\n",
       "    fx_rate     goal         location  pledged  staff_pick  status  duration  \\\n",
       "0  1.261110  40000.0       London, UK        0           0  failed        34   \n",
       "1  0.748587   5000.0   London, Canada      717           0  failed        29   \n",
       "2  0.722499   5000.0        Perth, AU        1           0  failed        34   \n",
       "3  1.000000   1900.0       Austin, TX      166           0  failed        36   \n",
       "4  1.000000  30000.0  Los Angeles, CA        7           0  failed        29   \n",
       "\n",
       "   created_day  continent  city  state  \n",
       "0           11        0.0   0.0    0.0  \n",
       "1           28        1.0   0.0    0.0  \n",
       "2           13        0.0   0.0    0.0  \n",
       "3           25        1.0   0.0    0.0  \n",
       "4           18        1.0   0.0    0.0  "
      ]
     },
     "execution_count": 9,
     "metadata": {},
     "output_type": "execute_result"
    }
   ],
   "source": [
    "df.head()"
   ]
  },
  {
   "cell_type": "code",
   "execution_count": 10,
   "metadata": {},
   "outputs": [],
   "source": [
    "df['status'] =df.status.str.contains('successful').astype(int)"
   ]
  },
  {
   "cell_type": "code",
   "execution_count": 11,
   "metadata": {},
   "outputs": [],
   "source": [
    "X =df.drop(columns=['backers_count', 'created_at', 'deadline','staff_pick', 'location', 'status'], axis=1)\n",
    "y =df['status']"
   ]
  },
  {
   "cell_type": "code",
   "execution_count": 12,
   "metadata": {},
   "outputs": [
    {
     "data": {
      "text/html": [
       "<div>\n",
       "<style scoped>\n",
       "    .dataframe tbody tr th:only-of-type {\n",
       "        vertical-align: middle;\n",
       "    }\n",
       "\n",
       "    .dataframe tbody tr th {\n",
       "        vertical-align: top;\n",
       "    }\n",
       "\n",
       "    .dataframe thead th {\n",
       "        text-align: right;\n",
       "    }\n",
       "</style>\n",
       "<table border=\"1\" class=\"dataframe\">\n",
       "  <thead>\n",
       "    <tr style=\"text-align: right;\">\n",
       "      <th></th>\n",
       "      <th>category</th>\n",
       "      <th>country</th>\n",
       "      <th>currency</th>\n",
       "      <th>fx_rate</th>\n",
       "      <th>goal</th>\n",
       "      <th>pledged</th>\n",
       "      <th>duration</th>\n",
       "      <th>created_day</th>\n",
       "      <th>continent</th>\n",
       "      <th>city</th>\n",
       "      <th>state</th>\n",
       "    </tr>\n",
       "  </thead>\n",
       "  <tbody>\n",
       "    <tr>\n",
       "      <th>0</th>\n",
       "      <td>0.0</td>\n",
       "      <td>0.0</td>\n",
       "      <td>0.0</td>\n",
       "      <td>1.261110</td>\n",
       "      <td>40000.0</td>\n",
       "      <td>0</td>\n",
       "      <td>34</td>\n",
       "      <td>11</td>\n",
       "      <td>0.0</td>\n",
       "      <td>0.0</td>\n",
       "      <td>0.0</td>\n",
       "    </tr>\n",
       "    <tr>\n",
       "      <th>1</th>\n",
       "      <td>0.0</td>\n",
       "      <td>0.0</td>\n",
       "      <td>0.0</td>\n",
       "      <td>0.748587</td>\n",
       "      <td>5000.0</td>\n",
       "      <td>717</td>\n",
       "      <td>29</td>\n",
       "      <td>28</td>\n",
       "      <td>1.0</td>\n",
       "      <td>0.0</td>\n",
       "      <td>0.0</td>\n",
       "    </tr>\n",
       "    <tr>\n",
       "      <th>2</th>\n",
       "      <td>0.0</td>\n",
       "      <td>0.0</td>\n",
       "      <td>1.0</td>\n",
       "      <td>0.722499</td>\n",
       "      <td>5000.0</td>\n",
       "      <td>1</td>\n",
       "      <td>34</td>\n",
       "      <td>13</td>\n",
       "      <td>0.0</td>\n",
       "      <td>0.0</td>\n",
       "      <td>0.0</td>\n",
       "    </tr>\n",
       "    <tr>\n",
       "      <th>3</th>\n",
       "      <td>0.0</td>\n",
       "      <td>0.0</td>\n",
       "      <td>0.0</td>\n",
       "      <td>1.000000</td>\n",
       "      <td>1900.0</td>\n",
       "      <td>166</td>\n",
       "      <td>36</td>\n",
       "      <td>25</td>\n",
       "      <td>1.0</td>\n",
       "      <td>0.0</td>\n",
       "      <td>0.0</td>\n",
       "    </tr>\n",
       "    <tr>\n",
       "      <th>4</th>\n",
       "      <td>0.0</td>\n",
       "      <td>0.0</td>\n",
       "      <td>0.0</td>\n",
       "      <td>1.000000</td>\n",
       "      <td>30000.0</td>\n",
       "      <td>7</td>\n",
       "      <td>29</td>\n",
       "      <td>18</td>\n",
       "      <td>1.0</td>\n",
       "      <td>0.0</td>\n",
       "      <td>0.0</td>\n",
       "    </tr>\n",
       "  </tbody>\n",
       "</table>\n",
       "</div>"
      ],
      "text/plain": [
       "   category  country  currency   fx_rate     goal  pledged  duration  \\\n",
       "0       0.0      0.0       0.0  1.261110  40000.0        0        34   \n",
       "1       0.0      0.0       0.0  0.748587   5000.0      717        29   \n",
       "2       0.0      0.0       1.0  0.722499   5000.0        1        34   \n",
       "3       0.0      0.0       0.0  1.000000   1900.0      166        36   \n",
       "4       0.0      0.0       0.0  1.000000  30000.0        7        29   \n",
       "\n",
       "   created_day  continent  city  state  \n",
       "0           11        0.0   0.0    0.0  \n",
       "1           28        1.0   0.0    0.0  \n",
       "2           13        0.0   0.0    0.0  \n",
       "3           25        1.0   0.0    0.0  \n",
       "4           18        1.0   0.0    0.0  "
      ]
     },
     "execution_count": 12,
     "metadata": {},
     "output_type": "execute_result"
    }
   ],
   "source": [
    "X.head()"
   ]
  },
  {
   "cell_type": "code",
   "execution_count": 13,
   "metadata": {},
   "outputs": [],
   "source": [
    "#使用管道进行数据标准化和回归模拟\n",
    "#使用10倍交叉验证的逻辑回归\n",
    "ss =StandardScaler()\n",
    "lr =LogisticRegressionCV(cv=10)\n",
    "# kfold =KFold(n_splits=5, shuffle=True, random_state=0)\n",
    "lr_pipe =  Pipeline([('sscale', ss),('logreg', lr)])"
   ]
  },
  {
   "cell_type": "code",
   "execution_count": 14,
   "metadata": {},
   "outputs": [],
   "source": [
    "X_train, X_test, y_train, y_test =train_test_split(X, y ,test_size =0.2, random_state =1)"
   ]
  },
  {
   "cell_type": "code",
   "execution_count": 15,
   "metadata": {},
   "outputs": [
    {
     "name": "stderr",
     "output_type": "stream",
     "text": [
      "/Users/zhenghongsheng/anaconda3/lib/python3.6/site-packages/sklearn/preprocessing/data.py:645: DataConversionWarning: Data with input dtype int64, float32, float64 were all converted to float64 by StandardScaler.\n",
      "  return self.partial_fit(X, y)\n",
      "/Users/zhenghongsheng/anaconda3/lib/python3.6/site-packages/sklearn/base.py:467: DataConversionWarning: Data with input dtype int64, float32, float64 were all converted to float64 by StandardScaler.\n",
      "  return self.fit(X, y, **fit_params).transform(X)\n"
     ]
    },
    {
     "name": "stdout",
     "output_type": "stream",
     "text": [
      "运行时间: 4.054231 s\n"
     ]
    }
   ],
   "source": [
    "start_time =time.time()\n",
    "lr_pipe.fit(X_train, y_train)\n",
    "end_time =time.time()\n",
    "dtime = end_time - start_time\n",
    "print('运行时间: %.8s s'%dtime)"
   ]
  },
  {
   "cell_type": "code",
   "execution_count": 16,
   "metadata": {},
   "outputs": [
    {
     "name": "stderr",
     "output_type": "stream",
     "text": [
      "/Users/zhenghongsheng/anaconda3/lib/python3.6/site-packages/sklearn/pipeline.py:511: DataConversionWarning: Data with input dtype int64, float32, float64 were all converted to float64 by StandardScaler.\n",
      "  Xt = transform.transform(Xt)\n"
     ]
    },
    {
     "data": {
      "text/plain": [
       "0.8483706332678262"
      ]
     },
     "execution_count": 16,
     "metadata": {},
     "output_type": "execute_result"
    }
   ],
   "source": [
    "lr_pipe.score(X_train, y_train)"
   ]
  },
  {
   "cell_type": "code",
   "execution_count": 17,
   "metadata": {},
   "outputs": [
    {
     "name": "stderr",
     "output_type": "stream",
     "text": [
      "/Users/zhenghongsheng/anaconda3/lib/python3.6/site-packages/sklearn/pipeline.py:511: DataConversionWarning: Data with input dtype int64, float32, float64 were all converted to float64 by StandardScaler.\n",
      "  Xt = transform.transform(Xt)\n"
     ]
    },
    {
     "data": {
      "text/plain": [
       "0.8531706458614419"
      ]
     },
     "execution_count": 17,
     "metadata": {},
     "output_type": "execute_result"
    }
   ],
   "source": [
    "lr_pipe.score(X_test, y_test)"
   ]
  },
  {
   "cell_type": "code",
   "execution_count": 18,
   "metadata": {},
   "outputs": [
    {
     "name": "stderr",
     "output_type": "stream",
     "text": [
      "/Users/zhenghongsheng/anaconda3/lib/python3.6/site-packages/sklearn/pipeline.py:331: DataConversionWarning: Data with input dtype int64, float32, float64 were all converted to float64 by StandardScaler.\n",
      "  Xt = transform.transform(Xt)\n"
     ]
    }
   ],
   "source": [
    "y_pred = lr_pipe.predict(X_test)"
   ]
  },
  {
   "cell_type": "code",
   "execution_count": 19,
   "metadata": {},
   "outputs": [],
   "source": [
    "from sklearn.metrics import accuracy_score, f1_score, precision_score, recall_score, classification_report, confusion_matrix"
   ]
  },
  {
   "cell_type": "code",
   "execution_count": 20,
   "metadata": {},
   "outputs": [
    {
     "name": "stdout",
     "output_type": "stream",
     "text": [
      "the f1_score of LogisticRegression: 0.8525745238182529\n",
      "the precision_score of LogisticRegression: 0.8578375441023651\n",
      "the recall_score of LogisticRegression: 0.8527382800943514\n"
     ]
    }
   ],
   "source": [
    "print('the f1_score of LogisticRegression:',f1_score(y_test, y_pred, average=\"macro\"))\n",
    "print('the precision_score of LogisticRegression:', precision_score(y_test, y_pred, average=\"macro\"))\n",
    "print('the recall_score of LogisticRegression:',recall_score(y_test, y_pred, average=\"macro\")) "
   ]
  },
  {
   "cell_type": "code",
   "execution_count": 21,
   "metadata": {},
   "outputs": [],
   "source": [
    "from  sklearn.metrics import roc_curve,auc"
   ]
  },
  {
   "cell_type": "code",
   "execution_count": 22,
   "metadata": {},
   "outputs": [
    {
     "name": "stderr",
     "output_type": "stream",
     "text": [
      "/Users/zhenghongsheng/anaconda3/lib/python3.6/site-packages/sklearn/pipeline.py:381: DataConversionWarning: Data with input dtype int64, float32, float64 were all converted to float64 by StandardScaler.\n",
      "  Xt = transform.transform(Xt)\n"
     ]
    }
   ],
   "source": [
    "fpr_lr, tpr_lr, thrsholds_lr =roc_curve(y_test, lr_pipe.predict_proba(X_test)[:,1])"
   ]
  },
  {
   "cell_type": "code",
   "execution_count": 23,
   "metadata": {},
   "outputs": [
    {
     "data": {
      "text/plain": [
       "<matplotlib.legend.Legend at 0x1a3e520c88>"
      ]
     },
     "execution_count": 23,
     "metadata": {},
     "output_type": "execute_result"
    },
    {
     "data": {
      "image/png": "[encoded data removed]",
      "text/plain": [
       "<Figure size 432x288 with 1 Axes>"
      ]
     },
     "metadata": {
      "needs_background": "light"
     },
     "output_type": "display_data"
    }
   ],
   "source": [
    "plt.plot(fpr_lr, tpr_lr, label =' Roc curve Logistic_Regression', color='b')\n",
    "plt.xlabel('FPR')\n",
    "plt.ylabel('TPR')\n",
    "plt.title(' Roc curve of Logistic_Regression')\n",
    "# plt.plot(fpr[close_zero], tpr[close_zero], 'o', marksize =10, label ='thrshold zero rf', fillstyle = 'none', c ='k', mew =2)\n",
    "plt.legend(loc =4)"
   ]
  },
  {
   "cell_type": "code",
   "execution_count": 24,
   "metadata": {},
   "outputs": [
    {
     "name": "stdout",
     "output_type": "stream",
     "text": [
      "auc of Logistic_Regression 0.9405661644295041\n"
     ]
    }
   ],
   "source": [
    "print('auc of Logistic_Regression', auc(fpr_lr, tpr_lr))"
   ]
  },
  {
   "cell_type": "code",
   "execution_count": null,
   "metadata": {},
   "outputs": [],
   "source": []
  }
 ],
 "metadata": {
  "kernelspec": {
   "display_name": "Python 3",
   "language": "python",
   "name": "python3"
  },
  "language_info": {
   "codemirror_mode": {
    "name": "ipython",
    "version": 3
   },
   "file_extension": ".py",
   "mimetype": "text/x-python",
   "name": "python",
   "nbconvert_exporter": "python",
   "pygments_lexer": "ipython3",
   "version": "3.6.8"
  }
 },
 "nbformat": 4,
 "nbformat_minor": 2
}
