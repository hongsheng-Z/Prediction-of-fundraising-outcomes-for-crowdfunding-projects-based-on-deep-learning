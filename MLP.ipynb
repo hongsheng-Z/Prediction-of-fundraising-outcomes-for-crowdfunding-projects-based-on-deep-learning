{
 "cells": [
  {
   "cell_type": "code",
   "execution_count": 59,
   "metadata": {},
   "outputs": [],
   "source": [
    "import os\n",
    "import pandas as pd\n",
    "import numpy as np\n",
    "import seaborn as sns\n",
    "import matplotlib.pyplot as plt\n",
    "import sklearn\n",
    "import time\n",
    "from sklearn.preprocessing import StandardScaler, OneHotEncoder\n",
    "from sklearn.metrics import accuracy_score, precision_score, recall_score, f1_score\n",
    "from sklearn.metrics import roc_auc_score, roc_curve, auc,confusion_matrix\n",
    "from sklearn.model_selection import train_test_split, StratifiedKFold\n",
    "import tensorflow as tf\n",
    "\n",
    "from tensorflow import keras\n",
    "from keras import regularizers\n",
    "from keras.utils.np_utils import to_categorical\n",
    "from tensorflow.keras import layers\n",
    "from sklearn.pipeline import Pipeline\n",
    "%matplotlib  inline"
   ]
  },
  {
   "cell_type": "code",
   "execution_count": 60,
   "metadata": {},
   "outputs": [
    {
     "name": "stdout",
     "output_type": "stream",
     "text": [
      "1.9.0\n",
      "2.1.6-tf\n",
      "0.20.3\n"
     ]
    }
   ],
   "source": [
    "# os.environ['TF_CPP_MIN_LOG_LEVEL'] = '2' \n",
    "print(tf.__version__)\n",
    "print(tf.keras.__version__)\n",
    "print(sklearn.__version__)"
   ]
  },
  {
   "cell_type": "code",
   "execution_count": 61,
   "metadata": {},
   "outputs": [],
   "source": [
    "path =os.getcwd()"
   ]
  },
  {
   "cell_type": "code",
   "execution_count": 62,
   "metadata": {},
   "outputs": [],
   "source": [
    "df =pd.read_csv(path +'/Kickstarter/cleaned_kick_data01.csv')"
   ]
  },
  {
   "cell_type": "code",
   "execution_count": 63,
   "metadata": {},
   "outputs": [
    {
     "data": {
      "text/plain": [
       "(85233, 17)"
      ]
     },
     "execution_count": 63,
     "metadata": {},
     "output_type": "execute_result"
    }
   ],
   "source": [
    "df.shape"
   ]
  },
  {
   "cell_type": "code",
   "execution_count": 64,
   "metadata": {},
   "outputs": [
    {
     "data": {
      "text/html": [
       "<div>\n",
       "<style scoped>\n",
       "    .dataframe tbody tr th:only-of-type {\n",
       "        vertical-align: middle;\n",
       "    }\n",
       "\n",
       "    .dataframe tbody tr th {\n",
       "        vertical-align: top;\n",
       "    }\n",
       "\n",
       "    .dataframe thead th {\n",
       "        text-align: right;\n",
       "    }\n",
       "</style>\n",
       "<table border=\"1\" class=\"dataframe\">\n",
       "  <thead>\n",
       "    <tr style=\"text-align: right;\">\n",
       "      <th></th>\n",
       "      <th>backers_count</th>\n",
       "      <th>category</th>\n",
       "      <th>country</th>\n",
       "      <th>created_at</th>\n",
       "      <th>currency</th>\n",
       "      <th>deadline</th>\n",
       "      <th>fx_rate</th>\n",
       "      <th>goal</th>\n",
       "      <th>location</th>\n",
       "      <th>pledged</th>\n",
       "      <th>staff_pick</th>\n",
       "      <th>status</th>\n",
       "      <th>duration</th>\n",
       "      <th>created_day</th>\n",
       "      <th>continent</th>\n",
       "      <th>city</th>\n",
       "      <th>state</th>\n",
       "    </tr>\n",
       "  </thead>\n",
       "  <tbody>\n",
       "    <tr>\n",
       "      <th>0</th>\n",
       "      <td>0</td>\n",
       "      <td>film</td>\n",
       "      <td>GB</td>\n",
       "      <td>2017-01-11</td>\n",
       "      <td>GBP</td>\n",
       "      <td>2017-02-15</td>\n",
       "      <td>1.261110</td>\n",
       "      <td>40000.0</td>\n",
       "      <td>London, UK</td>\n",
       "      <td>0.0</td>\n",
       "      <td>False</td>\n",
       "      <td>failed</td>\n",
       "      <td>35</td>\n",
       "      <td>11</td>\n",
       "      <td>Europe</td>\n",
       "      <td>London</td>\n",
       "      <td>UK</td>\n",
       "    </tr>\n",
       "    <tr>\n",
       "      <th>1</th>\n",
       "      <td>12</td>\n",
       "      <td>crafts</td>\n",
       "      <td>CA</td>\n",
       "      <td>2016-02-28</td>\n",
       "      <td>CAD</td>\n",
       "      <td>2016-03-29</td>\n",
       "      <td>0.748587</td>\n",
       "      <td>5000.0</td>\n",
       "      <td>London, Canada</td>\n",
       "      <td>357.0</td>\n",
       "      <td>False</td>\n",
       "      <td>failed</td>\n",
       "      <td>30</td>\n",
       "      <td>28</td>\n",
       "      <td>America</td>\n",
       "      <td>London</td>\n",
       "      <td>Canada</td>\n",
       "    </tr>\n",
       "    <tr>\n",
       "      <th>2</th>\n",
       "      <td>1</td>\n",
       "      <td>games</td>\n",
       "      <td>AU</td>\n",
       "      <td>2016-02-13</td>\n",
       "      <td>AUD</td>\n",
       "      <td>2016-03-19</td>\n",
       "      <td>0.722499</td>\n",
       "      <td>5000.0</td>\n",
       "      <td>Perth, AU</td>\n",
       "      <td>1.0</td>\n",
       "      <td>False</td>\n",
       "      <td>failed</td>\n",
       "      <td>35</td>\n",
       "      <td>13</td>\n",
       "      <td>Oceania</td>\n",
       "      <td>Perth</td>\n",
       "      <td>AU</td>\n",
       "    </tr>\n",
       "    <tr>\n",
       "      <th>3</th>\n",
       "      <td>3</td>\n",
       "      <td>fashion</td>\n",
       "      <td>US</td>\n",
       "      <td>2015-05-25</td>\n",
       "      <td>USD</td>\n",
       "      <td>2015-07-01</td>\n",
       "      <td>1.000000</td>\n",
       "      <td>1900.0</td>\n",
       "      <td>Austin, TX</td>\n",
       "      <td>49.0</td>\n",
       "      <td>False</td>\n",
       "      <td>failed</td>\n",
       "      <td>37</td>\n",
       "      <td>25</td>\n",
       "      <td>America</td>\n",
       "      <td>Austin</td>\n",
       "      <td>TX</td>\n",
       "    </tr>\n",
       "    <tr>\n",
       "      <th>4</th>\n",
       "      <td>2</td>\n",
       "      <td>film</td>\n",
       "      <td>US</td>\n",
       "      <td>2018-05-18</td>\n",
       "      <td>USD</td>\n",
       "      <td>2018-06-17</td>\n",
       "      <td>1.000000</td>\n",
       "      <td>30000.0</td>\n",
       "      <td>Los Angeles, CA</td>\n",
       "      <td>2.0</td>\n",
       "      <td>False</td>\n",
       "      <td>failed</td>\n",
       "      <td>30</td>\n",
       "      <td>18</td>\n",
       "      <td>America</td>\n",
       "      <td>Los Angeles</td>\n",
       "      <td>CA</td>\n",
       "    </tr>\n",
       "  </tbody>\n",
       "</table>\n",
       "</div>"
      ],
      "text/plain": [
       "   backers_count category country  created_at currency    deadline   fx_rate  \\\n",
       "0              0     film      GB  2017-01-11      GBP  2017-02-15  1.261110   \n",
       "1             12   crafts      CA  2016-02-28      CAD  2016-03-29  0.748587   \n",
       "2              1    games      AU  2016-02-13      AUD  2016-03-19  0.722499   \n",
       "3              3  fashion      US  2015-05-25      USD  2015-07-01  1.000000   \n",
       "4              2     film      US  2018-05-18      USD  2018-06-17  1.000000   \n",
       "\n",
       "      goal         location  pledged  staff_pick  status  duration  \\\n",
       "0  40000.0       London, UK      0.0       False  failed        35   \n",
       "1   5000.0   London, Canada    357.0       False  failed        30   \n",
       "2   5000.0        Perth, AU      1.0       False  failed        35   \n",
       "3   1900.0       Austin, TX     49.0       False  failed        37   \n",
       "4  30000.0  Los Angeles, CA      2.0       False  failed        30   \n",
       "\n",
       "   created_day continent         city   state  \n",
       "0           11    Europe       London      UK  \n",
       "1           28   America       London  Canada  \n",
       "2           13   Oceania        Perth      AU  \n",
       "3           25   America       Austin      TX  \n",
       "4           18   America  Los Angeles      CA  "
      ]
     },
     "execution_count": 64,
     "metadata": {},
     "output_type": "execute_result"
    }
   ],
   "source": [
    "df.head()"
   ]
  },
  {
   "cell_type": "code",
   "execution_count": 65,
   "metadata": {},
   "outputs": [],
   "source": [
    "df['goal'] =np.log10(df.goal)"
   ]
  },
  {
   "cell_type": "code",
   "execution_count": 66,
   "metadata": {},
   "outputs": [],
   "source": [
    "#对标称属性进行独热编码，转化为数值属性\n",
    "from sklearn.preprocessing import LabelEncoder\n",
    "le = LabelEncoder()\n",
    "oh =OneHotEncoder()\n",
    "df['backers_count'] =le.fit_transform(df['backers_count'].values)\n",
    "df['category'] =le.fit_transform(df['category'].values)\n",
    "df['country'] =le.fit_transform(df['country'].values)\n",
    "df['pledged'] =le.fit_transform(df['pledged'].values)\n",
    "# df['spotlight'] =le.fit_transform(df['spotlight'].values)\n",
    "df['staff_pick'] =le.fit_transform(df['staff_pick'].values)\n",
    "df['duration'] =le.fit_transform(df['duration'].values)\n",
    "df['continent'] =le.fit_transform(df['continent'].values)\n",
    "df['city'] =le.fit_transform(df['city'].values)\n",
    "df['state'] =le.fit_transform(df['state'].values)\n",
    "df['currency'] =le.fit_transform(df['currency'].values)"
   ]
  },
  {
   "cell_type": "code",
   "execution_count": 67,
   "metadata": {},
   "outputs": [],
   "source": [
    "#对类别信息进行处理\n",
    "df['continent'] = to_categorical(df['continent']) \n",
    "df['category'] =to_categorical(df['category'])\n",
    "df['country'] =to_categorical(df['country'])\n",
    "df['city'] =to_categorical(df['city'])\n",
    "df['state'] =to_categorical(df['state'])\n",
    "df['currency'] =to_categorical(df['currency'])"
   ]
  },
  {
   "cell_type": "code",
   "execution_count": 68,
   "metadata": {},
   "outputs": [],
   "source": [
    "df['status'] =df.status.str.contains('successful').astype(int)"
   ]
  },
  {
   "cell_type": "code",
   "execution_count": 69,
   "metadata": {},
   "outputs": [
    {
     "data": {
      "text/html": [
       "<div>\n",
       "<style scoped>\n",
       "    .dataframe tbody tr th:only-of-type {\n",
       "        vertical-align: middle;\n",
       "    }\n",
       "\n",
       "    .dataframe tbody tr th {\n",
       "        vertical-align: top;\n",
       "    }\n",
       "\n",
       "    .dataframe thead th {\n",
       "        text-align: right;\n",
       "    }\n",
       "</style>\n",
       "<table border=\"1\" class=\"dataframe\">\n",
       "  <thead>\n",
       "    <tr style=\"text-align: right;\">\n",
       "      <th></th>\n",
       "      <th>backers_count</th>\n",
       "      <th>category</th>\n",
       "      <th>country</th>\n",
       "      <th>created_at</th>\n",
       "      <th>currency</th>\n",
       "      <th>deadline</th>\n",
       "      <th>fx_rate</th>\n",
       "      <th>goal</th>\n",
       "      <th>location</th>\n",
       "      <th>pledged</th>\n",
       "      <th>staff_pick</th>\n",
       "      <th>status</th>\n",
       "      <th>duration</th>\n",
       "      <th>created_day</th>\n",
       "      <th>continent</th>\n",
       "      <th>city</th>\n",
       "      <th>state</th>\n",
       "    </tr>\n",
       "  </thead>\n",
       "  <tbody>\n",
       "    <tr>\n",
       "      <th>0</th>\n",
       "      <td>0</td>\n",
       "      <td>0.0</td>\n",
       "      <td>0.0</td>\n",
       "      <td>2017-01-11</td>\n",
       "      <td>0.0</td>\n",
       "      <td>2017-02-15</td>\n",
       "      <td>1.261110</td>\n",
       "      <td>4.602060</td>\n",
       "      <td>London, UK</td>\n",
       "      <td>0</td>\n",
       "      <td>0</td>\n",
       "      <td>0</td>\n",
       "      <td>34</td>\n",
       "      <td>11</td>\n",
       "      <td>0.0</td>\n",
       "      <td>0.0</td>\n",
       "      <td>0.0</td>\n",
       "    </tr>\n",
       "    <tr>\n",
       "      <th>1</th>\n",
       "      <td>12</td>\n",
       "      <td>0.0</td>\n",
       "      <td>0.0</td>\n",
       "      <td>2016-02-28</td>\n",
       "      <td>0.0</td>\n",
       "      <td>2016-03-29</td>\n",
       "      <td>0.748587</td>\n",
       "      <td>3.698970</td>\n",
       "      <td>London, Canada</td>\n",
       "      <td>717</td>\n",
       "      <td>0</td>\n",
       "      <td>0</td>\n",
       "      <td>29</td>\n",
       "      <td>28</td>\n",
       "      <td>1.0</td>\n",
       "      <td>0.0</td>\n",
       "      <td>0.0</td>\n",
       "    </tr>\n",
       "    <tr>\n",
       "      <th>2</th>\n",
       "      <td>1</td>\n",
       "      <td>0.0</td>\n",
       "      <td>0.0</td>\n",
       "      <td>2016-02-13</td>\n",
       "      <td>1.0</td>\n",
       "      <td>2016-03-19</td>\n",
       "      <td>0.722499</td>\n",
       "      <td>3.698970</td>\n",
       "      <td>Perth, AU</td>\n",
       "      <td>1</td>\n",
       "      <td>0</td>\n",
       "      <td>0</td>\n",
       "      <td>34</td>\n",
       "      <td>13</td>\n",
       "      <td>0.0</td>\n",
       "      <td>0.0</td>\n",
       "      <td>0.0</td>\n",
       "    </tr>\n",
       "    <tr>\n",
       "      <th>3</th>\n",
       "      <td>3</td>\n",
       "      <td>0.0</td>\n",
       "      <td>0.0</td>\n",
       "      <td>2015-05-25</td>\n",
       "      <td>0.0</td>\n",
       "      <td>2015-07-01</td>\n",
       "      <td>1.000000</td>\n",
       "      <td>3.278754</td>\n",
       "      <td>Austin, TX</td>\n",
       "      <td>166</td>\n",
       "      <td>0</td>\n",
       "      <td>0</td>\n",
       "      <td>36</td>\n",
       "      <td>25</td>\n",
       "      <td>1.0</td>\n",
       "      <td>0.0</td>\n",
       "      <td>0.0</td>\n",
       "    </tr>\n",
       "    <tr>\n",
       "      <th>4</th>\n",
       "      <td>2</td>\n",
       "      <td>0.0</td>\n",
       "      <td>0.0</td>\n",
       "      <td>2018-05-18</td>\n",
       "      <td>0.0</td>\n",
       "      <td>2018-06-17</td>\n",
       "      <td>1.000000</td>\n",
       "      <td>4.477121</td>\n",
       "      <td>Los Angeles, CA</td>\n",
       "      <td>7</td>\n",
       "      <td>0</td>\n",
       "      <td>0</td>\n",
       "      <td>29</td>\n",
       "      <td>18</td>\n",
       "      <td>1.0</td>\n",
       "      <td>0.0</td>\n",
       "      <td>0.0</td>\n",
       "    </tr>\n",
       "  </tbody>\n",
       "</table>\n",
       "</div>"
      ],
      "text/plain": [
       "   backers_count  category  country  created_at  currency    deadline  \\\n",
       "0              0       0.0      0.0  2017-01-11       0.0  2017-02-15   \n",
       "1             12       0.0      0.0  2016-02-28       0.0  2016-03-29   \n",
       "2              1       0.0      0.0  2016-02-13       1.0  2016-03-19   \n",
       "3              3       0.0      0.0  2015-05-25       0.0  2015-07-01   \n",
       "4              2       0.0      0.0  2018-05-18       0.0  2018-06-17   \n",
       "\n",
       "    fx_rate      goal         location  pledged  staff_pick  status  duration  \\\n",
       "0  1.261110  4.602060       London, UK        0           0       0        34   \n",
       "1  0.748587  3.698970   London, Canada      717           0       0        29   \n",
       "2  0.722499  3.698970        Perth, AU        1           0       0        34   \n",
       "3  1.000000  3.278754       Austin, TX      166           0       0        36   \n",
       "4  1.000000  4.477121  Los Angeles, CA        7           0       0        29   \n",
       "\n",
       "   created_day  continent  city  state  \n",
       "0           11        0.0   0.0    0.0  \n",
       "1           28        1.0   0.0    0.0  \n",
       "2           13        0.0   0.0    0.0  \n",
       "3           25        1.0   0.0    0.0  \n",
       "4           18        1.0   0.0    0.0  "
      ]
     },
     "execution_count": 69,
     "metadata": {},
     "output_type": "execute_result"
    }
   ],
   "source": [
    "df.head()"
   ]
  },
  {
   "cell_type": "code",
   "execution_count": 70,
   "metadata": {},
   "outputs": [],
   "source": [
    "# X =df.drop(columns=['backers_count', 'created_at', 'deadline', 'location', 'status'], axis=1)\n",
    "X =df[['goal', 'category', 'backers_count','duration', 'city', 'created_day',  'state', 'country', 'currency', 'continent','fx_rate']]\n",
    "y =df['status']"
   ]
  },
  {
   "cell_type": "code",
   "execution_count": 73,
   "metadata": {},
   "outputs": [
    {
     "data": {
      "text/html": [
       "<div>\n",
       "<style scoped>\n",
       "    .dataframe tbody tr th:only-of-type {\n",
       "        vertical-align: middle;\n",
       "    }\n",
       "\n",
       "    .dataframe tbody tr th {\n",
       "        vertical-align: top;\n",
       "    }\n",
       "\n",
       "    .dataframe thead th {\n",
       "        text-align: right;\n",
       "    }\n",
       "</style>\n",
       "<table border=\"1\" class=\"dataframe\">\n",
       "  <thead>\n",
       "    <tr style=\"text-align: right;\">\n",
       "      <th></th>\n",
       "      <th>goal</th>\n",
       "      <th>category</th>\n",
       "      <th>backers_count</th>\n",
       "      <th>duration</th>\n",
       "      <th>city</th>\n",
       "      <th>created_day</th>\n",
       "      <th>state</th>\n",
       "      <th>country</th>\n",
       "      <th>currency</th>\n",
       "      <th>continent</th>\n",
       "      <th>fx_rate</th>\n",
       "    </tr>\n",
       "  </thead>\n",
       "  <tbody>\n",
       "    <tr>\n",
       "      <th>0</th>\n",
       "      <td>4.602060</td>\n",
       "      <td>0.0</td>\n",
       "      <td>0</td>\n",
       "      <td>34</td>\n",
       "      <td>0.0</td>\n",
       "      <td>11</td>\n",
       "      <td>0.0</td>\n",
       "      <td>0.0</td>\n",
       "      <td>0.0</td>\n",
       "      <td>0.0</td>\n",
       "      <td>1.261110</td>\n",
       "    </tr>\n",
       "    <tr>\n",
       "      <th>1</th>\n",
       "      <td>3.698970</td>\n",
       "      <td>0.0</td>\n",
       "      <td>12</td>\n",
       "      <td>29</td>\n",
       "      <td>0.0</td>\n",
       "      <td>28</td>\n",
       "      <td>0.0</td>\n",
       "      <td>0.0</td>\n",
       "      <td>0.0</td>\n",
       "      <td>1.0</td>\n",
       "      <td>0.748587</td>\n",
       "    </tr>\n",
       "    <tr>\n",
       "      <th>2</th>\n",
       "      <td>3.698970</td>\n",
       "      <td>0.0</td>\n",
       "      <td>1</td>\n",
       "      <td>34</td>\n",
       "      <td>0.0</td>\n",
       "      <td>13</td>\n",
       "      <td>0.0</td>\n",
       "      <td>0.0</td>\n",
       "      <td>1.0</td>\n",
       "      <td>0.0</td>\n",
       "      <td>0.722499</td>\n",
       "    </tr>\n",
       "    <tr>\n",
       "      <th>3</th>\n",
       "      <td>3.278754</td>\n",
       "      <td>0.0</td>\n",
       "      <td>3</td>\n",
       "      <td>36</td>\n",
       "      <td>0.0</td>\n",
       "      <td>25</td>\n",
       "      <td>0.0</td>\n",
       "      <td>0.0</td>\n",
       "      <td>0.0</td>\n",
       "      <td>1.0</td>\n",
       "      <td>1.000000</td>\n",
       "    </tr>\n",
       "    <tr>\n",
       "      <th>4</th>\n",
       "      <td>4.477121</td>\n",
       "      <td>0.0</td>\n",
       "      <td>2</td>\n",
       "      <td>29</td>\n",
       "      <td>0.0</td>\n",
       "      <td>18</td>\n",
       "      <td>0.0</td>\n",
       "      <td>0.0</td>\n",
       "      <td>0.0</td>\n",
       "      <td>1.0</td>\n",
       "      <td>1.000000</td>\n",
       "    </tr>\n",
       "  </tbody>\n",
       "</table>\n",
       "</div>"
      ],
      "text/plain": [
       "       goal  category  backers_count  duration  city  created_day  state  \\\n",
       "0  4.602060       0.0              0        34   0.0           11    0.0   \n",
       "1  3.698970       0.0             12        29   0.0           28    0.0   \n",
       "2  3.698970       0.0              1        34   0.0           13    0.0   \n",
       "3  3.278754       0.0              3        36   0.0           25    0.0   \n",
       "4  4.477121       0.0              2        29   0.0           18    0.0   \n",
       "\n",
       "   country  currency  continent   fx_rate  \n",
       "0      0.0       0.0        0.0  1.261110  \n",
       "1      0.0       0.0        1.0  0.748587  \n",
       "2      0.0       1.0        0.0  0.722499  \n",
       "3      0.0       0.0        1.0  1.000000  \n",
       "4      0.0       0.0        1.0  1.000000  "
      ]
     },
     "execution_count": 73,
     "metadata": {},
     "output_type": "execute_result"
    }
   ],
   "source": [
    "X.head()"
   ]
  },
  {
   "cell_type": "code",
   "execution_count": 74,
   "metadata": {},
   "outputs": [],
   "source": [
    "X_train, X_test, y_train, y_test =train_test_split(X, y, test_size =0.2, random_state =1 )"
   ]
  },
  {
   "cell_type": "code",
   "execution_count": 75,
   "metadata": {},
   "outputs": [
    {
     "data": {
      "text/plain": [
       "(68186, 11)"
      ]
     },
     "execution_count": 75,
     "metadata": {},
     "output_type": "execute_result"
    }
   ],
   "source": [
    "X_train.shape"
   ]
  },
  {
   "cell_type": "code",
   "execution_count": 76,
   "metadata": {},
   "outputs": [
    {
     "name": "stderr",
     "output_type": "stream",
     "text": [
      "/Users/zhenghongsheng/anaconda3/lib/python3.6/site-packages/sklearn/preprocessing/data.py:645: DataConversionWarning: Data with input dtype float32, int64, float64 were all converted to float64 by StandardScaler.\n",
      "  return self.partial_fit(X, y)\n",
      "/Users/zhenghongsheng/anaconda3/lib/python3.6/site-packages/sklearn/base.py:464: DataConversionWarning: Data with input dtype float32, int64, float64 were all converted to float64 by StandardScaler.\n",
      "  return self.fit(X, **fit_params).transform(X)\n",
      "/Users/zhenghongsheng/anaconda3/lib/python3.6/site-packages/sklearn/preprocessing/data.py:645: DataConversionWarning: Data with input dtype float32, int64, float64 were all converted to float64 by StandardScaler.\n",
      "  return self.partial_fit(X, y)\n",
      "/Users/zhenghongsheng/anaconda3/lib/python3.6/site-packages/sklearn/base.py:464: DataConversionWarning: Data with input dtype float32, int64, float64 were all converted to float64 by StandardScaler.\n",
      "  return self.fit(X, **fit_params).transform(X)\n"
     ]
    }
   ],
   "source": [
    "#对数据进行标准化\n",
    "ss =StandardScaler()\n",
    "X_train =ss.fit_transform(X_train)\n",
    "X_test =ss.fit_transform(X_test)"
   ]
  },
  {
   "cell_type": "code",
   "execution_count": 77,
   "metadata": {},
   "outputs": [
    {
     "data": {
      "text/plain": [
       "(68186, 11)"
      ]
     },
     "execution_count": 77,
     "metadata": {},
     "output_type": "execute_result"
    }
   ],
   "source": [
    "X_train.shape"
   ]
  },
  {
   "cell_type": "code",
   "execution_count": 78,
   "metadata": {},
   "outputs": [],
   "source": [
    "model = keras.Sequential([keras.layers.Flatten(input_shape =(11,)),\n",
    "                          keras.layers.Dense(10, activation =tf.nn.relu, activity_regularizer=regularizers.l2(0.01)),\n",
    "                          keras.layers.Dense(5, activation =tf.nn.relu, activity_regularizer=regularizers.l2(0.01)),\n",
    "                          keras.layers.Dense(2, activation =tf.nn.softmax, activity_regularizer =regularizers.l2(0.01))])"
   ]
  },
  {
   "cell_type": "code",
   "execution_count": 79,
   "metadata": {},
   "outputs": [],
   "source": [
    "#模型编译\n",
    "model.compile(optimizer= 'adam',\n",
    "              loss ='sparse_categorical_crossentropy',\n",
    "              metrics=['accuracy'])"
   ]
  },
  {
   "cell_type": "code",
   "execution_count": 80,
   "metadata": {},
   "outputs": [
    {
     "name": "stdout",
     "output_type": "stream",
     "text": [
      "Train on 68186 samples, validate on 17047 samples\n",
      "Epoch 1/20\n",
      "68186/68186 [==============================] - 5s 77us/step - loss: 1.2827 - acc: 0.7338 - val_loss: 0.9343 - val_acc: 0.8836\n",
      "Epoch 2/20\n",
      "68186/68186 [==============================] - 4s 62us/step - loss: 0.8394 - acc: 0.9067 - val_loss: 0.7685 - val_acc: 0.9148\n",
      "Epoch 3/20\n",
      "68186/68186 [==============================] - 4s 62us/step - loss: 0.7517 - acc: 0.9190 - val_loss: 0.7130 - val_acc: 0.9160\n",
      "Epoch 4/20\n",
      "68186/68186 [==============================] - 4s 62us/step - loss: 0.7032 - acc: 0.9204 - val_loss: 0.6822 - val_acc: 0.9124\n",
      "Epoch 5/20\n",
      "68186/68186 [==============================] - 5s 68us/step - loss: 0.6671 - acc: 0.9248 - val_loss: 0.6560 - val_acc: 0.9139\n",
      "Epoch 6/20\n",
      "68186/68186 [==============================] - 5s 67us/step - loss: 0.6384 - acc: 0.9247 - val_loss: 0.6120 - val_acc: 0.9269\n",
      "Epoch 7/20\n",
      "68186/68186 [==============================] - 4s 60us/step - loss: 0.6125 - acc: 0.9263 - val_loss: 0.6036 - val_acc: 0.9204\n",
      "Epoch 8/20\n",
      "68186/68186 [==============================] - 4s 64us/step - loss: 0.5918 - acc: 0.9258 - val_loss: 0.5757 - val_acc: 0.9249\n",
      "Epoch 9/20\n",
      "68186/68186 [==============================] - 4s 62us/step - loss: 0.5752 - acc: 0.9253 - val_loss: 0.5580 - val_acc: 0.9266\n",
      "Epoch 10/20\n",
      "68186/68186 [==============================] - 4s 62us/step - loss: 0.5580 - acc: 0.9262 - val_loss: 0.5472 - val_acc: 0.9270\n",
      "Epoch 11/20\n",
      "68186/68186 [==============================] - 4s 61us/step - loss: 0.5456 - acc: 0.9270 - val_loss: 0.5361 - val_acc: 0.9261\n",
      "Epoch 12/20\n",
      "68186/68186 [==============================] - 4s 61us/step - loss: 0.5335 - acc: 0.9264 - val_loss: 0.5227 - val_acc: 0.9276\n",
      "Epoch 13/20\n",
      "68186/68186 [==============================] - 4s 63us/step - loss: 0.5252 - acc: 0.9264 - val_loss: 0.5211 - val_acc: 0.9264\n",
      "Epoch 14/20\n",
      "68186/68186 [==============================] - 4s 63us/step - loss: 0.5168 - acc: 0.9267 - val_loss: 0.5412 - val_acc: 0.9090\n",
      "Epoch 15/20\n",
      "68186/68186 [==============================] - 4s 66us/step - loss: 0.5116 - acc: 0.9262 - val_loss: 0.5174 - val_acc: 0.9204\n",
      "Epoch 16/20\n",
      "68186/68186 [==============================] - 5s 69us/step - loss: 0.5050 - acc: 0.9254 - val_loss: 0.5095 - val_acc: 0.9249\n",
      "Epoch 17/20\n",
      "68186/68186 [==============================] - 4s 64us/step - loss: 0.5008 - acc: 0.9255 - val_loss: 0.4998 - val_acc: 0.9268\n",
      "Epoch 18/20\n",
      "68186/68186 [==============================] - 4s 62us/step - loss: 0.4956 - acc: 0.9267 - val_loss: 0.5059 - val_acc: 0.9209\n",
      "Epoch 19/20\n",
      "68186/68186 [==============================] - 4s 60us/step - loss: 0.4943 - acc: 0.9261 - val_loss: 0.4981 - val_acc: 0.9229\n",
      "Epoch 20/20\n",
      "68186/68186 [==============================] - 4s 60us/step - loss: 0.4906 - acc: 0.9263 - val_loss: 0.5018 - val_acc: 0.9192\n",
      "运行时间: 87.33498 s\n"
     ]
    }
   ],
   "source": [
    "#模型拟合\n",
    "start_time =time.time()\n",
    "history =model.fit(X_train, y_train, validation_data=(X_test, y_test),  epochs=20)\n",
    "end_time =time.time()\n",
    "dtime =end_time- start_time\n",
    "print('运行时间: %.8s s'%dtime)"
   ]
  },
  {
   "cell_type": "code",
   "execution_count": 81,
   "metadata": {},
   "outputs": [
    {
     "name": "stdout",
     "output_type": "stream",
     "text": [
      "17047/17047 [==============================] - 0s 21us/step\n"
     ]
    }
   ],
   "source": [
    "test_loss, test_acc =history.model.evaluate(X_test, y_test)"
   ]
  },
  {
   "cell_type": "code",
   "execution_count": 82,
   "metadata": {},
   "outputs": [
    {
     "name": "stdout",
     "output_type": "stream",
     "text": [
      "68186/68186 [==============================] - 1s 19us/step\n"
     ]
    }
   ],
   "source": [
    "train_loss, train_acc =history.model.evaluate(X_train, y_train)"
   ]
  },
  {
   "cell_type": "code",
   "execution_count": 83,
   "metadata": {},
   "outputs": [
    {
     "name": "stdout",
     "output_type": "stream",
     "text": [
      "Train: 0.926, Test: 0.919\n"
     ]
    }
   ],
   "source": [
    "print('Train: %.3f, Test: %.3f' % (train_acc, test_acc))"
   ]
  },
  {
   "cell_type": "code",
   "execution_count": 84,
   "metadata": {},
   "outputs": [
    {
     "name": "stdout",
     "output_type": "stream",
     "text": [
      "Train_loss: 0.487, Test_loss: 0.502\n"
     ]
    }
   ],
   "source": [
    "print('Train_loss: %.3f, Test_loss: %.3f' %(train_loss, test_loss))"
   ]
  },
  {
   "cell_type": "code",
   "execution_count": 85,
   "metadata": {},
   "outputs": [
    {
     "data": {
      "image/png": "[encoded data removed]",
      "text/plain": [
       "<Figure size 432x288 with 1 Axes>"
      ]
     },
     "metadata": {
      "needs_background": "light"
     },
     "output_type": "display_data"
    }
   ],
   "source": [
    "# Plot training & validation accuracy values\n",
    "plt.plot(history.history['acc'])\n",
    "plt.plot(history.history['val_acc'])\n",
    "plt.xlabel('Epoch')\n",
    "plt.ylabel('Accuracy')\n",
    "plt.title('Accuracy of Model epoch =20')\n",
    "plt.legend(['Train', 'Test'], loc='lower right')\n",
    "plt.savefig('accuracy.png')\n",
    "plt.show()"
   ]
  },
  {
   "cell_type": "code",
   "execution_count": 86,
   "metadata": {},
   "outputs": [
    {
     "data": {
      "image/png": "[encoded data removed]",
      "text/plain": [
       "<Figure size 432x288 with 1 Axes>"
      ]
     },
     "metadata": {
      "needs_background": "light"
     },
     "output_type": "display_data"
    }
   ],
   "source": [
    "# Plot training & validation loss values\n",
    "plt.plot(history.history['loss'])\n",
    "plt.plot(history.history['val_loss'])\n",
    "plt.title('Loss of Model')\n",
    "plt.ylabel('Loss')\n",
    "plt.xlabel('Epoch')\n",
    "plt.legend(['Train', 'Test'], loc='upper right')\n",
    "plt.savefig('loss.png')\n",
    "plt.show()"
   ]
  },
  {
   "cell_type": "code",
   "execution_count": 87,
   "metadata": {},
   "outputs": [
    {
     "name": "stdout",
     "output_type": "stream",
     "text": [
      "_________________________________________________________________\n",
      "Layer (type)                 Output Shape              Param #   \n",
      "=================================================================\n",
      "flatten_2 (Flatten)          (None, 11)                0         \n",
      "_________________________________________________________________\n",
      "dense_6 (Dense)              (None, 10)                120       \n",
      "_________________________________________________________________\n",
      "dense_7 (Dense)              (None, 5)                 55        \n",
      "_________________________________________________________________\n",
      "dense_8 (Dense)              (None, 2)                 12        \n",
      "=================================================================\n",
      "Total params: 187\n",
      "Trainable params: 187\n",
      "Non-trainable params: 0\n",
      "_________________________________________________________________\n"
     ]
    }
   ],
   "source": [
    "history.model.summary()"
   ]
  },
  {
   "cell_type": "code",
   "execution_count": 88,
   "metadata": {},
   "outputs": [],
   "source": [
    "#使用模型进行预测\n",
    "mlp_pred = history.model.predict(X_test, verbose = 0)\n",
    "mlp_class = history.model.predict_classes(X_test, verbose = 0)"
   ]
  },
  {
   "cell_type": "code",
   "execution_count": 89,
   "metadata": {},
   "outputs": [
    {
     "data": {
      "text/plain": [
       "array([[0.2614246 , 0.7385754 ],\n",
       "       [0.00638715, 0.9936128 ],\n",
       "       [0.9666758 , 0.03332416],\n",
       "       ...,\n",
       "       [0.9091387 , 0.09086134],\n",
       "       [0.91861105, 0.08138897],\n",
       "       [0.9666758 , 0.03332416]], dtype=float32)"
      ]
     },
     "execution_count": 89,
     "metadata": {},
     "output_type": "execute_result"
    }
   ],
   "source": [
    "mlp_pred"
   ]
  },
  {
   "cell_type": "code",
   "execution_count": 90,
   "metadata": {},
   "outputs": [
    {
     "data": {
      "text/plain": [
       "array([1, 1, 0, ..., 0, 0, 0])"
      ]
     },
     "execution_count": 90,
     "metadata": {},
     "output_type": "execute_result"
    }
   ],
   "source": [
    "mlp_class"
   ]
  },
  {
   "cell_type": "code",
   "execution_count": 91,
   "metadata": {},
   "outputs": [],
   "source": [
    "accuracy =accuracy_score(y_test, mlp_class)"
   ]
  },
  {
   "cell_type": "code",
   "execution_count": 92,
   "metadata": {},
   "outputs": [],
   "source": [
    "precision =precision_score(y_test, mlp_class)"
   ]
  },
  {
   "cell_type": "code",
   "execution_count": 93,
   "metadata": {},
   "outputs": [],
   "source": [
    "recall =recall_score(y_test, mlp_class)"
   ]
  },
  {
   "cell_type": "code",
   "execution_count": 94,
   "metadata": {},
   "outputs": [],
   "source": [
    "f1_score =f1_score(y_test, mlp_class)"
   ]
  },
  {
   "cell_type": "code",
   "execution_count": 95,
   "metadata": {},
   "outputs": [],
   "source": [
    "fpr_mlp, tpr_mlp, thrsholds_mlp =roc_curve(y_test, history.model.predict_proba(X_test)[:,1])"
   ]
  },
  {
   "cell_type": "code",
   "execution_count": 99,
   "metadata": {},
   "outputs": [
    {
     "name": "stdout",
     "output_type": "stream",
     "text": [
      "scores:0.852 \n",
      "the f1_score of  KNN: 0.8542154246782638\n",
      "the precision_score of KNN: 0.8584042966664888\n",
      "the recall_score of KNN: 0.8549146178836926\n"
     ]
    },
    {
     "data": {
      "image/png": "[encoded data removed]",
      "text/plain": [
       "<Figure size 432x288 with 1 Axes>"
      ]
     },
     "metadata": {
      "needs_background": "light"
     },
     "output_type": "display_data"
    },
    {
     "name": "stdout",
     "output_type": "stream",
     "text": [
      "auc of KNN 0.9306489828771047\n"
     ]
    }
   ],
   "source": [
    "%run K_Nearest_Neighbors.ipynb"
   ]
  },
  {
   "cell_type": "code",
   "execution_count": 100,
   "metadata": {},
   "outputs": [
    {
     "name": "stderr",
     "output_type": "stream",
     "text": [
      "/Users/zhenghongsheng/anaconda3/lib/python3.6/site-packages/sklearn/preprocessing/data.py:645: DataConversionWarning: Data with input dtype float32, int64, float64 were all converted to float64 by StandardScaler.\n",
      "  return self.partial_fit(X, y)\n",
      "/Users/zhenghongsheng/anaconda3/lib/python3.6/site-packages/sklearn/base.py:467: DataConversionWarning: Data with input dtype float32, int64, float64 were all converted to float64 by StandardScaler.\n",
      "  return self.fit(X, y, **fit_params).transform(X)\n"
     ]
    },
    {
     "name": "stdout",
     "output_type": "stream",
     "text": [
      "运行时间: 4.331586 s\n",
      "the f1_score of LogisticRegression: 0.8525745238182529\n",
      "the precision_score of LogisticRegression: 0.8578375441023651\n",
      "the recall_score of LogisticRegression: 0.8527382800943514\n"
     ]
    },
    {
     "name": "stderr",
     "output_type": "stream",
     "text": [
      "/Users/zhenghongsheng/anaconda3/lib/python3.6/site-packages/sklearn/pipeline.py:511: DataConversionWarning: Data with input dtype float32, int64, float64 were all converted to float64 by StandardScaler.\n",
      "  Xt = transform.transform(Xt)\n",
      "/Users/zhenghongsheng/anaconda3/lib/python3.6/site-packages/sklearn/pipeline.py:511: DataConversionWarning: Data with input dtype float32, int64, float64 were all converted to float64 by StandardScaler.\n",
      "  Xt = transform.transform(Xt)\n",
      "/Users/zhenghongsheng/anaconda3/lib/python3.6/site-packages/sklearn/pipeline.py:331: DataConversionWarning: Data with input dtype float32, int64, float64 were all converted to float64 by StandardScaler.\n",
      "  Xt = transform.transform(Xt)\n",
      "/Users/zhenghongsheng/anaconda3/lib/python3.6/site-packages/sklearn/pipeline.py:381: DataConversionWarning: Data with input dtype float32, int64, float64 were all converted to float64 by StandardScaler.\n",
      "  Xt = transform.transform(Xt)\n"
     ]
    },
    {
     "data": {
      "image/png": "[encoded data removed]",
      "text/plain": [
       "<Figure size 432x288 with 1 Axes>"
      ]
     },
     "metadata": {
      "needs_background": "light"
     },
     "output_type": "display_data"
    },
    {
     "name": "stdout",
     "output_type": "stream",
     "text": [
      "auc of Logistic_Regression 0.9405661644295041\n"
     ]
    }
   ],
   "source": [
    "%run Logistic_Regression.ipynb"
   ]
  },
  {
   "cell_type": "code",
   "execution_count": 110,
   "metadata": {},
   "outputs": [
    {
     "name": "stderr",
     "output_type": "stream",
     "text": [
      "/Users/zhenghongsheng/anaconda3/lib/python3.6/site-packages/sklearn/preprocessing/data.py:645: DataConversionWarning: Data with input dtype float32, int64, float64 were all converted to float64 by StandardScaler.\n",
      "  return self.partial_fit(X, y)\n",
      "/Users/zhenghongsheng/anaconda3/lib/python3.6/site-packages/sklearn/base.py:467: DataConversionWarning: Data with input dtype float32, int64, float64 were all converted to float64 by StandardScaler.\n",
      "  return self.fit(X, y, **fit_params).transform(X)\n"
     ]
    },
    {
     "name": "stdout",
     "output_type": "stream",
     "text": [
      "运行时间: 82.35565805 s\n"
     ]
    },
    {
     "name": "stderr",
     "output_type": "stream",
     "text": [
      "/Users/zhenghongsheng/anaconda3/lib/python3.6/site-packages/sklearn/pipeline.py:511: DataConversionWarning: Data with input dtype float32, int64, float64 were all converted to float64 by StandardScaler.\n",
      "  Xt = transform.transform(Xt)\n",
      "/Users/zhenghongsheng/anaconda3/lib/python3.6/site-packages/sklearn/pipeline.py:511: DataConversionWarning: Data with input dtype float32, int64, float64 were all converted to float64 by StandardScaler.\n",
      "  Xt = transform.transform(Xt)\n",
      "/Users/zhenghongsheng/anaconda3/lib/python3.6/site-packages/sklearn/pipeline.py:401: DataConversionWarning: Data with input dtype float32, int64, float64 were all converted to float64 by StandardScaler.\n",
      "  Xt = transform.transform(Xt)\n"
     ]
    },
    {
     "data": {
      "image/png": "[encoded data removed]",
      "text/plain": [
       "<Figure size 432x288 with 1 Axes>"
      ]
     },
     "metadata": {
      "needs_background": "light"
     },
     "output_type": "display_data"
    },
    {
     "name": "stdout",
     "output_type": "stream",
     "text": [
      "auc of SVM 0.938900123905148\n"
     ]
    },
    {
     "name": "stderr",
     "output_type": "stream",
     "text": [
      "/Users/zhenghongsheng/anaconda3/lib/python3.6/site-packages/sklearn/pipeline.py:331: DataConversionWarning: Data with input dtype float32, int64, float64 were all converted to float64 by StandardScaler.\n",
      "  Xt = transform.transform(Xt)\n"
     ]
    },
    {
     "name": "stdout",
     "output_type": "stream",
     "text": [
      "f1 socre of SVM: 0.8455264458724666\n",
      "precison of SVM: 0.8856957928802589\n",
      "recall of SVM: 0.8088426527958388\n",
      "              precision    recall  f1-score   support\n",
      "\n",
      "      falied       0.83      0.90      0.86      8588\n",
      "  successful       0.89      0.81      0.85      8459\n",
      "\n",
      "   micro avg       0.85      0.85      0.85     17047\n",
      "   macro avg       0.86      0.85      0.85     17047\n",
      "weighted avg       0.86      0.85      0.85     17047\n",
      "\n"
     ]
    }
   ],
   "source": [
    "%run SVM.ipynb"
   ]
  },
  {
   "cell_type": "code",
   "execution_count": 112,
   "metadata": {},
   "outputs": [
    {
     "name": "stderr",
     "output_type": "stream",
     "text": [
      "/Users/zhenghongsheng/anaconda3/lib/python3.6/site-packages/sklearn/preprocessing/data.py:645: DataConversionWarning: Data with input dtype float32, int64, float64 were all converted to float64 by StandardScaler.\n",
      "  return self.partial_fit(X, y)\n",
      "/Users/zhenghongsheng/anaconda3/lib/python3.6/site-packages/sklearn/base.py:467: DataConversionWarning: Data with input dtype float32, int64, float64 were all converted to float64 by StandardScaler.\n",
      "  return self.fit(X, y, **fit_params).transform(X)\n",
      "/Users/zhenghongsheng/anaconda3/lib/python3.6/site-packages/sklearn/pipeline.py:511: DataConversionWarning: Data with input dtype float32, int64, float64 were all converted to float64 by StandardScaler.\n",
      "  Xt = transform.transform(Xt)\n"
     ]
    },
    {
     "name": "stdout",
     "output_type": "stream",
     "text": [
      "运行时间: 0.141262 s\n",
      "scores:0.8520998252536692\n",
      "acc of rf: 0.8520998252536692\n",
      "运行时间: 0.093872 s\n",
      "rf accurcy: 0.8953481551006042\n",
      "dct accurcy: 0.9004516923798909\n",
      "Random Forest [[7932  512]\n",
      " [1272 7331]]\n",
      "Decision Tree [[7542  902]\n",
      " [ 795 7808]]\n"
     ]
    },
    {
     "data": {
      "image/png": "[encoded data removed]",
      "text/plain": [
       "<Figure size 432x288 with 1 Axes>"
      ]
     },
     "metadata": {
      "needs_background": "light"
     },
     "output_type": "display_data"
    },
    {
     "name": "stdout",
     "output_type": "stream",
     "text": [
      "auc of decision_tree: 0.9003844818985898\n",
      "auc of random_forest: 0.9424352468565353\n",
      "rf precision: 0.9347188575800076\n",
      "rf recall: 0.8521446007206789\n",
      "rf f1: 0.8915237747780616\n",
      "dt precision: 0.8964408725602755\n",
      "dt recall: 0.9075903754504243\n",
      "dt f1: 0.9019811702189108\n"
     ]
    }
   ],
   "source": [
    "%run Random_Forest.ipynb"
   ]
  },
  {
   "cell_type": "code",
   "execution_count": 138,
   "metadata": {},
   "outputs": [
    {
     "data": {
      "image/png": "[encoded data removed]",
      "text/plain": [
       "<Figure size 864x576 with 1 Axes>"
      ]
     },
     "metadata": {
      "needs_background": "light"
     },
     "output_type": "display_data"
    }
   ],
   "source": [
    "plt.figure(figsize=(12,8))\n",
    "plt.plot(fpr_mlp, tpr_mlp, label =' Roc curve MLP', linestyle='-',color='b')\n",
    "plt.plot(fpr_lr, tpr_lr, label ='Roc curve LR',linestyle='--',color ='g')\n",
    "plt.plot(fpr_knn, tpr_knn, label ='Roc curve KNN', linestyle=':',color ='r')\n",
    "plt.plot(fpr_svm, tpr_svm, label='Roc curve SVM', linestyle='-.', color='#FFA500')\n",
    "plt.plot(fpr_rf, tpr_rf, label='Roc curve RF', linestyle ='-.',color ='c')\n",
    "plt.plot(fpr_dct, tpr_dct, label ='Roc curve DT', linestyle='-', color ='m')\n",
    "plt.xlabel('FPR',fontsize=16)\n",
    "plt.ylabel('TPR',fontsize=16)\n",
    "plt.title(' Roc Curve',fontsize ='xx-large',fontweight='bold')\n",
    "# plt.plot(fpr[close_zero], tpr[close_zero], 'o', marksize =10, label ='thrshold zero rf', fillstyle = 'none', c ='k', mew =2)\n",
    "plt.legend(loc =4,fontsize=14)\n",
    "plt.savefig('Roc.png')"
   ]
  },
  {
   "cell_type": "code",
   "execution_count": 97,
   "metadata": {},
   "outputs": [],
   "source": [
    "auc =auc(fpr_mlp, tpr_mlp)"
   ]
  },
  {
   "cell_type": "code",
   "execution_count": 98,
   "metadata": {},
   "outputs": [
    {
     "name": "stdout",
     "output_type": "stream",
     "text": [
      "Accuracy of MLP: 0.9192233237519798\n",
      "Precision of MLP: 0.8831421770179615\n",
      "Recall of MLP: 0.9648894668400521\n",
      "F1_scores of MLP: 0.9222077848709113\n",
      "Auc of MLP: 0.9736320878267969\n"
     ]
    }
   ],
   "source": [
    "print('Accuracy of MLP:', accuracy)\n",
    "print('Precision of MLP:', precision)\n",
    "print('Recall of MLP:', recall)\n",
    "print('F1_scores of MLP:', f1_score)\n",
    "print('Auc of MLP:', auc)"
   ]
  },
  {
   "cell_type": "code",
   "execution_count": 42,
   "metadata": {},
   "outputs": [],
   "source": [
    "matrix =confusion_matrix(y_test, mlp_class)"
   ]
  },
  {
   "cell_type": "code",
   "execution_count": 43,
   "metadata": {},
   "outputs": [
    {
     "data": {
      "text/plain": [
       "array([[7809,  779],\n",
       "       [ 643, 7816]])"
      ]
     },
     "execution_count": 43,
     "metadata": {},
     "output_type": "execute_result"
    }
   ],
   "source": [
    "matrix"
   ]
  }
 ],
 "metadata": {
  "kernelspec": {
   "display_name": "Python 3",
   "language": "python",
   "name": "python3"
  },
  "language_info": {
   "codemirror_mode": {
    "name": "ipython",
    "version": 3
   },
   "file_extension": ".py",
   "mimetype": "text/x-python",
   "name": "python",
   "nbconvert_exporter": "python",
   "pygments_lexer": "ipython3",
   "version": "3.6.8"
  }
 },
 "nbformat": 4,
 "nbformat_minor": 2
}
