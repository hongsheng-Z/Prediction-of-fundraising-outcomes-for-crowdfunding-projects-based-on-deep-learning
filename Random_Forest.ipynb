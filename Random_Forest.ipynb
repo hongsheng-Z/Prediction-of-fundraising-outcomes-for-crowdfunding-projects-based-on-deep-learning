{
 "cells": [
  {
   "cell_type": "code",
   "execution_count": 1,
   "metadata": {},
   "outputs": [
    {
     "name": "stderr",
     "output_type": "stream",
     "text": [
      "Using TensorFlow backend.\n"
     ]
    }
   ],
   "source": [
    "import os\n",
    "import pandas as pd\n",
    "import numpy as np\n",
    "import seaborn as sns\n",
    "import time\n",
    "import matplotlib.pyplot as plt\n",
    "\n",
    "from sklearn.pipeline import Pipeline, FeatureUnion\n",
    "from sklearn.pipeline import make_pipeline\n",
    "from sklearn.model_selection import train_test_split, cross_val_score, KFold, LeaveOneOut\n",
    "from sklearn.metrics import accuracy_score\n",
    "from sklearn.preprocessing import StandardScaler\n",
    "from sklearn.ensemble import RandomForestClassifier, BaggingClassifier\n",
    "from sklearn import preprocessing\n",
    "from sklearn.preprocessing import LabelEncoder\n",
    "from keras.utils.np_utils import to_categorical\n",
    "from sklearn.tree import DecisionTreeClassifier, ExtraTreeClassifier, DecisionTreeRegressor\n",
    "\n",
    "%matplotlib inline"
   ]
  },
  {
   "cell_type": "code",
   "execution_count": 2,
   "metadata": {},
   "outputs": [],
   "source": [
    "path =os.getcwd()"
   ]
  },
  {
   "cell_type": "code",
   "execution_count": 3,
   "metadata": {},
   "outputs": [],
   "source": [
    "df =pd.read_csv(path + '/Kickstarter/cleaned_kick_data01.csv')"
   ]
  },
  {
   "cell_type": "code",
   "execution_count": 4,
   "metadata": {},
   "outputs": [
    {
     "data": {
      "text/plain": [
       "(85233, 17)"
      ]
     },
     "execution_count": 4,
     "metadata": {},
     "output_type": "execute_result"
    }
   ],
   "source": [
    "df.shape"
   ]
  },
  {
   "cell_type": "code",
   "execution_count": 5,
   "metadata": {},
   "outputs": [
    {
     "data": {
      "text/html": [
       "<div>\n",
       "<style scoped>\n",
       "    .dataframe tbody tr th:only-of-type {\n",
       "        vertical-align: middle;\n",
       "    }\n",
       "\n",
       "    .dataframe tbody tr th {\n",
       "        vertical-align: top;\n",
       "    }\n",
       "\n",
       "    .dataframe thead th {\n",
       "        text-align: right;\n",
       "    }\n",
       "</style>\n",
       "<table border=\"1\" class=\"dataframe\">\n",
       "  <thead>\n",
       "    <tr style=\"text-align: right;\">\n",
       "      <th></th>\n",
       "      <th>backers_count</th>\n",
       "      <th>category</th>\n",
       "      <th>country</th>\n",
       "      <th>created_at</th>\n",
       "      <th>currency</th>\n",
       "      <th>deadline</th>\n",
       "      <th>fx_rate</th>\n",
       "      <th>goal</th>\n",
       "      <th>location</th>\n",
       "      <th>pledged</th>\n",
       "      <th>staff_pick</th>\n",
       "      <th>status</th>\n",
       "      <th>duration</th>\n",
       "      <th>created_day</th>\n",
       "      <th>continent</th>\n",
       "      <th>city</th>\n",
       "      <th>state</th>\n",
       "    </tr>\n",
       "  </thead>\n",
       "  <tbody>\n",
       "    <tr>\n",
       "      <th>0</th>\n",
       "      <td>0</td>\n",
       "      <td>film</td>\n",
       "      <td>GB</td>\n",
       "      <td>2017-01-11</td>\n",
       "      <td>GBP</td>\n",
       "      <td>2017-02-15</td>\n",
       "      <td>1.261110</td>\n",
       "      <td>40000.0</td>\n",
       "      <td>London, UK</td>\n",
       "      <td>0.0</td>\n",
       "      <td>False</td>\n",
       "      <td>failed</td>\n",
       "      <td>35</td>\n",
       "      <td>11</td>\n",
       "      <td>Europe</td>\n",
       "      <td>London</td>\n",
       "      <td>UK</td>\n",
       "    </tr>\n",
       "    <tr>\n",
       "      <th>1</th>\n",
       "      <td>12</td>\n",
       "      <td>crafts</td>\n",
       "      <td>CA</td>\n",
       "      <td>2016-02-28</td>\n",
       "      <td>CAD</td>\n",
       "      <td>2016-03-29</td>\n",
       "      <td>0.748587</td>\n",
       "      <td>5000.0</td>\n",
       "      <td>London, Canada</td>\n",
       "      <td>357.0</td>\n",
       "      <td>False</td>\n",
       "      <td>failed</td>\n",
       "      <td>30</td>\n",
       "      <td>28</td>\n",
       "      <td>America</td>\n",
       "      <td>London</td>\n",
       "      <td>Canada</td>\n",
       "    </tr>\n",
       "    <tr>\n",
       "      <th>2</th>\n",
       "      <td>1</td>\n",
       "      <td>games</td>\n",
       "      <td>AU</td>\n",
       "      <td>2016-02-13</td>\n",
       "      <td>AUD</td>\n",
       "      <td>2016-03-19</td>\n",
       "      <td>0.722499</td>\n",
       "      <td>5000.0</td>\n",
       "      <td>Perth, AU</td>\n",
       "      <td>1.0</td>\n",
       "      <td>False</td>\n",
       "      <td>failed</td>\n",
       "      <td>35</td>\n",
       "      <td>13</td>\n",
       "      <td>Oceania</td>\n",
       "      <td>Perth</td>\n",
       "      <td>AU</td>\n",
       "    </tr>\n",
       "    <tr>\n",
       "      <th>3</th>\n",
       "      <td>3</td>\n",
       "      <td>fashion</td>\n",
       "      <td>US</td>\n",
       "      <td>2015-05-25</td>\n",
       "      <td>USD</td>\n",
       "      <td>2015-07-01</td>\n",
       "      <td>1.000000</td>\n",
       "      <td>1900.0</td>\n",
       "      <td>Austin, TX</td>\n",
       "      <td>49.0</td>\n",
       "      <td>False</td>\n",
       "      <td>failed</td>\n",
       "      <td>37</td>\n",
       "      <td>25</td>\n",
       "      <td>America</td>\n",
       "      <td>Austin</td>\n",
       "      <td>TX</td>\n",
       "    </tr>\n",
       "    <tr>\n",
       "      <th>4</th>\n",
       "      <td>2</td>\n",
       "      <td>film</td>\n",
       "      <td>US</td>\n",
       "      <td>2018-05-18</td>\n",
       "      <td>USD</td>\n",
       "      <td>2018-06-17</td>\n",
       "      <td>1.000000</td>\n",
       "      <td>30000.0</td>\n",
       "      <td>Los Angeles, CA</td>\n",
       "      <td>2.0</td>\n",
       "      <td>False</td>\n",
       "      <td>failed</td>\n",
       "      <td>30</td>\n",
       "      <td>18</td>\n",
       "      <td>America</td>\n",
       "      <td>Los Angeles</td>\n",
       "      <td>CA</td>\n",
       "    </tr>\n",
       "    <tr>\n",
       "      <th>5</th>\n",
       "      <td>4</td>\n",
       "      <td>crafts</td>\n",
       "      <td>US</td>\n",
       "      <td>2015-01-20</td>\n",
       "      <td>USD</td>\n",
       "      <td>2015-03-07</td>\n",
       "      <td>1.000000</td>\n",
       "      <td>2500.0</td>\n",
       "      <td>Indianapolis, IN</td>\n",
       "      <td>185.0</td>\n",
       "      <td>False</td>\n",
       "      <td>failed</td>\n",
       "      <td>46</td>\n",
       "      <td>20</td>\n",
       "      <td>America</td>\n",
       "      <td>Indianapolis</td>\n",
       "      <td>IN</td>\n",
       "    </tr>\n",
       "    <tr>\n",
       "      <th>6</th>\n",
       "      <td>26</td>\n",
       "      <td>crafts</td>\n",
       "      <td>US</td>\n",
       "      <td>2017-04-07</td>\n",
       "      <td>USD</td>\n",
       "      <td>2017-05-03</td>\n",
       "      <td>1.000000</td>\n",
       "      <td>1000.0</td>\n",
       "      <td>Yakima, WA</td>\n",
       "      <td>1125.0</td>\n",
       "      <td>False</td>\n",
       "      <td>successful</td>\n",
       "      <td>26</td>\n",
       "      <td>7</td>\n",
       "      <td>America</td>\n",
       "      <td>Yakima</td>\n",
       "      <td>WA</td>\n",
       "    </tr>\n",
       "    <tr>\n",
       "      <th>7</th>\n",
       "      <td>14</td>\n",
       "      <td>art</td>\n",
       "      <td>US</td>\n",
       "      <td>2015-05-26</td>\n",
       "      <td>USD</td>\n",
       "      <td>2015-07-01</td>\n",
       "      <td>1.000000</td>\n",
       "      <td>1500.0</td>\n",
       "      <td>Gramolazzo, Italy</td>\n",
       "      <td>1500.0</td>\n",
       "      <td>False</td>\n",
       "      <td>successful</td>\n",
       "      <td>36</td>\n",
       "      <td>26</td>\n",
       "      <td>America</td>\n",
       "      <td>Gramolazzo</td>\n",
       "      <td>Italy</td>\n",
       "    </tr>\n",
       "    <tr>\n",
       "      <th>8</th>\n",
       "      <td>60</td>\n",
       "      <td>music</td>\n",
       "      <td>GB</td>\n",
       "      <td>2015-04-29</td>\n",
       "      <td>GBP</td>\n",
       "      <td>2015-07-18</td>\n",
       "      <td>1.261110</td>\n",
       "      <td>12000.0</td>\n",
       "      <td>Watford, UK</td>\n",
       "      <td>4880.0</td>\n",
       "      <td>False</td>\n",
       "      <td>failed</td>\n",
       "      <td>80</td>\n",
       "      <td>29</td>\n",
       "      <td>Europe</td>\n",
       "      <td>Watford</td>\n",
       "      <td>UK</td>\n",
       "    </tr>\n",
       "    <tr>\n",
       "      <th>9</th>\n",
       "      <td>2</td>\n",
       "      <td>music</td>\n",
       "      <td>US</td>\n",
       "      <td>2015-11-17</td>\n",
       "      <td>USD</td>\n",
       "      <td>2016-01-01</td>\n",
       "      <td>1.000000</td>\n",
       "      <td>6500.0</td>\n",
       "      <td>Fond du Lac, WI</td>\n",
       "      <td>50.0</td>\n",
       "      <td>False</td>\n",
       "      <td>failed</td>\n",
       "      <td>45</td>\n",
       "      <td>17</td>\n",
       "      <td>America</td>\n",
       "      <td>Fond du Lac</td>\n",
       "      <td>WI</td>\n",
       "    </tr>\n",
       "  </tbody>\n",
       "</table>\n",
       "</div>"
      ],
      "text/plain": [
       "   backers_count category country  created_at currency    deadline   fx_rate  \\\n",
       "0              0     film      GB  2017-01-11      GBP  2017-02-15  1.261110   \n",
       "1             12   crafts      CA  2016-02-28      CAD  2016-03-29  0.748587   \n",
       "2              1    games      AU  2016-02-13      AUD  2016-03-19  0.722499   \n",
       "3              3  fashion      US  2015-05-25      USD  2015-07-01  1.000000   \n",
       "4              2     film      US  2018-05-18      USD  2018-06-17  1.000000   \n",
       "5              4   crafts      US  2015-01-20      USD  2015-03-07  1.000000   \n",
       "6             26   crafts      US  2017-04-07      USD  2017-05-03  1.000000   \n",
       "7             14      art      US  2015-05-26      USD  2015-07-01  1.000000   \n",
       "8             60    music      GB  2015-04-29      GBP  2015-07-18  1.261110   \n",
       "9              2    music      US  2015-11-17      USD  2016-01-01  1.000000   \n",
       "\n",
       "      goal           location  pledged  staff_pick      status  duration  \\\n",
       "0  40000.0         London, UK      0.0       False      failed        35   \n",
       "1   5000.0     London, Canada    357.0       False      failed        30   \n",
       "2   5000.0          Perth, AU      1.0       False      failed        35   \n",
       "3   1900.0         Austin, TX     49.0       False      failed        37   \n",
       "4  30000.0    Los Angeles, CA      2.0       False      failed        30   \n",
       "5   2500.0   Indianapolis, IN    185.0       False      failed        46   \n",
       "6   1000.0         Yakima, WA   1125.0       False  successful        26   \n",
       "7   1500.0  Gramolazzo, Italy   1500.0       False  successful        36   \n",
       "8  12000.0        Watford, UK   4880.0       False      failed        80   \n",
       "9   6500.0    Fond du Lac, WI     50.0       False      failed        45   \n",
       "\n",
       "   created_day continent          city   state  \n",
       "0           11    Europe        London      UK  \n",
       "1           28   America        London  Canada  \n",
       "2           13   Oceania         Perth      AU  \n",
       "3           25   America        Austin      TX  \n",
       "4           18   America   Los Angeles      CA  \n",
       "5           20   America  Indianapolis      IN  \n",
       "6            7   America        Yakima      WA  \n",
       "7           26   America    Gramolazzo   Italy  \n",
       "8           29    Europe       Watford      UK  \n",
       "9           17   America   Fond du Lac      WI  "
      ]
     },
     "execution_count": 5,
     "metadata": {},
     "output_type": "execute_result"
    }
   ],
   "source": [
    "df.head(10)"
   ]
  },
  {
   "cell_type": "code",
   "execution_count": 6,
   "metadata": {},
   "outputs": [],
   "source": [
    "#对标称属性进行独热编码，转变为数值属性\n",
    "le =LabelEncoder()"
   ]
  },
  {
   "cell_type": "code",
   "execution_count": 7,
   "metadata": {},
   "outputs": [],
   "source": [
    "df['backers_count'] =le.fit_transform(df['backers_count'].values)\n",
    "df['category'] =le.fit_transform(df['category'].values)\n",
    "df['country'] =le.fit_transform(df['country'].values)\n",
    "df['currency'] =le.fit_transform(df['currency'].values)\n",
    "df['staff_pick'] =le.fit_transform(df['staff_pick'].values)\n",
    "df['status'] =le.fit_transform(df['status'].values)\n",
    "df['duration'] =le.fit_transform(df['duration'].values)\n",
    "df['created_day'] =le.fit_transform(df['created_day'].values)\n",
    "df['continent'] =le.fit_transform(df['continent'].values)\n",
    "df['city'] =le.fit_transform(df['city'].values)\n",
    "df['state'] =le.fit_transform(df['state'].values)"
   ]
  },
  {
   "cell_type": "code",
   "execution_count": 8,
   "metadata": {},
   "outputs": [],
   "source": [
    "#对类别信息进行处理\n",
    "df['continent'] = to_categorical(df['continent'], 4) \n",
    "df['category'] =to_categorical(df['category'], 15)\n",
    "df['country'] =to_categorical(df['country'],22)\n",
    "df['city'] =to_categorical(df['city'],8651)\n",
    "df['state'] =to_categorical(df['state'],224)\n",
    "df['currency'] =to_categorical(df['currency'], 14)"
   ]
  },
  {
   "cell_type": "code",
   "execution_count": 9,
   "metadata": {},
   "outputs": [],
   "source": [
    "df['goal'] =np.log10(df.goal)"
   ]
  },
  {
   "cell_type": "code",
   "execution_count": 10,
   "metadata": {},
   "outputs": [],
   "source": [
    "X =df.drop(['location','created_at', 'deadline', 'staff_pick' , 'pledged','status'], axis=1)\n",
    "y =df['status']"
   ]
  },
  {
   "cell_type": "code",
   "execution_count": 11,
   "metadata": {},
   "outputs": [
    {
     "data": {
      "text/html": [
       "<div>\n",
       "<style scoped>\n",
       "    .dataframe tbody tr th:only-of-type {\n",
       "        vertical-align: middle;\n",
       "    }\n",
       "\n",
       "    .dataframe tbody tr th {\n",
       "        vertical-align: top;\n",
       "    }\n",
       "\n",
       "    .dataframe thead th {\n",
       "        text-align: right;\n",
       "    }\n",
       "</style>\n",
       "<table border=\"1\" class=\"dataframe\">\n",
       "  <thead>\n",
       "    <tr style=\"text-align: right;\">\n",
       "      <th></th>\n",
       "      <th>backers_count</th>\n",
       "      <th>category</th>\n",
       "      <th>country</th>\n",
       "      <th>currency</th>\n",
       "      <th>fx_rate</th>\n",
       "      <th>goal</th>\n",
       "      <th>duration</th>\n",
       "      <th>created_day</th>\n",
       "      <th>continent</th>\n",
       "      <th>city</th>\n",
       "      <th>state</th>\n",
       "    </tr>\n",
       "  </thead>\n",
       "  <tbody>\n",
       "    <tr>\n",
       "      <th>0</th>\n",
       "      <td>0</td>\n",
       "      <td>0.0</td>\n",
       "      <td>0.0</td>\n",
       "      <td>0.0</td>\n",
       "      <td>1.261110</td>\n",
       "      <td>4.602060</td>\n",
       "      <td>34</td>\n",
       "      <td>10</td>\n",
       "      <td>0.0</td>\n",
       "      <td>0.0</td>\n",
       "      <td>0.0</td>\n",
       "    </tr>\n",
       "    <tr>\n",
       "      <th>1</th>\n",
       "      <td>12</td>\n",
       "      <td>0.0</td>\n",
       "      <td>0.0</td>\n",
       "      <td>0.0</td>\n",
       "      <td>0.748587</td>\n",
       "      <td>3.698970</td>\n",
       "      <td>29</td>\n",
       "      <td>27</td>\n",
       "      <td>1.0</td>\n",
       "      <td>0.0</td>\n",
       "      <td>0.0</td>\n",
       "    </tr>\n",
       "    <tr>\n",
       "      <th>2</th>\n",
       "      <td>1</td>\n",
       "      <td>0.0</td>\n",
       "      <td>0.0</td>\n",
       "      <td>1.0</td>\n",
       "      <td>0.722499</td>\n",
       "      <td>3.698970</td>\n",
       "      <td>34</td>\n",
       "      <td>12</td>\n",
       "      <td>0.0</td>\n",
       "      <td>0.0</td>\n",
       "      <td>0.0</td>\n",
       "    </tr>\n",
       "    <tr>\n",
       "      <th>3</th>\n",
       "      <td>3</td>\n",
       "      <td>0.0</td>\n",
       "      <td>0.0</td>\n",
       "      <td>0.0</td>\n",
       "      <td>1.000000</td>\n",
       "      <td>3.278754</td>\n",
       "      <td>36</td>\n",
       "      <td>24</td>\n",
       "      <td>1.0</td>\n",
       "      <td>0.0</td>\n",
       "      <td>0.0</td>\n",
       "    </tr>\n",
       "    <tr>\n",
       "      <th>4</th>\n",
       "      <td>2</td>\n",
       "      <td>0.0</td>\n",
       "      <td>0.0</td>\n",
       "      <td>0.0</td>\n",
       "      <td>1.000000</td>\n",
       "      <td>4.477121</td>\n",
       "      <td>29</td>\n",
       "      <td>17</td>\n",
       "      <td>1.0</td>\n",
       "      <td>0.0</td>\n",
       "      <td>0.0</td>\n",
       "    </tr>\n",
       "  </tbody>\n",
       "</table>\n",
       "</div>"
      ],
      "text/plain": [
       "   backers_count  category  country  currency   fx_rate      goal  duration  \\\n",
       "0              0       0.0      0.0       0.0  1.261110  4.602060        34   \n",
       "1             12       0.0      0.0       0.0  0.748587  3.698970        29   \n",
       "2              1       0.0      0.0       1.0  0.722499  3.698970        34   \n",
       "3              3       0.0      0.0       0.0  1.000000  3.278754        36   \n",
       "4              2       0.0      0.0       0.0  1.000000  4.477121        29   \n",
       "\n",
       "   created_day  continent  city  state  \n",
       "0           10        0.0   0.0    0.0  \n",
       "1           27        1.0   0.0    0.0  \n",
       "2           12        0.0   0.0    0.0  \n",
       "3           24        1.0   0.0    0.0  \n",
       "4           17        1.0   0.0    0.0  "
      ]
     },
     "execution_count": 11,
     "metadata": {},
     "output_type": "execute_result"
    }
   ],
   "source": [
    "X.head()"
   ]
  },
  {
   "cell_type": "code",
   "execution_count": 12,
   "metadata": {},
   "outputs": [],
   "source": [
    "#画出相关系数矩阵\n",
    "# np.corrcoef(X, rowvar=0)\n",
    "\n",
    "# fig, ax =plt.subplots(figsize =(9,9))\n",
    "# correlation_table = df.drop(columns=['location','created_at', 'deadline','pledged',], axis=1).corr()\n",
    "# sns.heatmap(correlation_table, ax =ax, cmap=\"YlGnBu\")\n",
    "# ax.set_title(' Corrrelation Matrix')"
   ]
  },
  {
   "cell_type": "markdown",
   "metadata": {},
   "source": [
    "使用Random Forest模型和 Decision Tree 模型进行预测"
   ]
  },
  {
   "cell_type": "code",
   "execution_count": 13,
   "metadata": {},
   "outputs": [],
   "source": [
    "X_train, X_test, y_train, y_test =train_test_split(X, y, test_size = 0.2, random_state =7)"
   ]
  },
  {
   "cell_type": "code",
   "execution_count": 14,
   "metadata": {},
   "outputs": [],
   "source": [
    "rf =RandomForestClassifier(n_estimators=10,max_depth=None,criterion='entropy' ,max_features='auto')"
   ]
  },
  {
   "cell_type": "code",
   "execution_count": 15,
   "metadata": {},
   "outputs": [],
   "source": [
    "#使用管道进行数据标准化和回归模拟\n",
    "##\n",
    "ss =StandardScaler()\n",
    "rf_pipe =  Pipeline([('sscale', ss),('ranforest', rf)])"
   ]
  },
  {
   "cell_type": "code",
   "execution_count": 16,
   "metadata": {},
   "outputs": [
    {
     "name": "stderr",
     "output_type": "stream",
     "text": [
      "/Users/zhenghongsheng/anaconda3/lib/python3.6/site-packages/sklearn/preprocessing/data.py:645: DataConversionWarning: Data with input dtype int64, float32, float64 were all converted to float64 by StandardScaler.\n",
      "  return self.partial_fit(X, y)\n",
      "/Users/zhenghongsheng/anaconda3/lib/python3.6/site-packages/sklearn/base.py:467: DataConversionWarning: Data with input dtype int64, float32, float64 were all converted to float64 by StandardScaler.\n",
      "  return self.fit(X, y, **fit_params).transform(X)\n"
     ]
    },
    {
     "name": "stdout",
     "output_type": "stream",
     "text": [
      "运行时间: 0.542423 s\n"
     ]
    }
   ],
   "source": [
    "start_time =time.time()\n",
    "rf_pipe.fit(X_train, y_train)\n",
    "end_time =time.time()\n",
    "dtime =end_time - start_time\n",
    "print('运行时间: %.8s s'% dtime)\n",
    "# rf.fit(X_train,y_train)"
   ]
  },
  {
   "cell_type": "code",
   "execution_count": 17,
   "metadata": {},
   "outputs": [
    {
     "name": "stderr",
     "output_type": "stream",
     "text": [
      "/Users/zhenghongsheng/anaconda3/lib/python3.6/site-packages/sklearn/pipeline.py:511: DataConversionWarning: Data with input dtype int64, float32, float64 were all converted to float64 by StandardScaler.\n",
      "  Xt = transform.transform(Xt)\n"
     ]
    },
    {
     "data": {
      "text/plain": [
       "0.9309555933595354"
      ]
     },
     "execution_count": 17,
     "metadata": {},
     "output_type": "execute_result"
    }
   ],
   "source": [
    "rf_pipe.score(X_test, y_test)"
   ]
  },
  {
   "cell_type": "code",
   "execution_count": 18,
   "metadata": {},
   "outputs": [],
   "source": [
    "dct =DecisionTreeClassifier(max_depth=None, criterion='entropy',max_features='auto')"
   ]
  },
  {
   "cell_type": "code",
   "execution_count": 19,
   "metadata": {},
   "outputs": [],
   "source": [
    "# dct_pipe =Pipeline([('sscale',ss),('decision', dct)])"
   ]
  },
  {
   "cell_type": "code",
   "execution_count": 20,
   "metadata": {},
   "outputs": [
    {
     "data": {
      "text/plain": [
       "DecisionTreeClassifier(class_weight=None, criterion='entropy', max_depth=None,\n",
       "            max_features='auto', max_leaf_nodes=None,\n",
       "            min_impurity_decrease=0.0, min_impurity_split=None,\n",
       "            min_samples_leaf=1, min_samples_split=2,\n",
       "            min_weight_fraction_leaf=0.0, presort=False, random_state=None,\n",
       "            splitter='best')"
      ]
     },
     "execution_count": 20,
     "metadata": {},
     "output_type": "execute_result"
    }
   ],
   "source": [
    "dct.fit(X_train, y_train)"
   ]
  },
  {
   "cell_type": "code",
   "execution_count": 27,
   "metadata": {},
   "outputs": [
    {
     "data": {
      "text/plain": [
       "0.9053205842670264"
      ]
     },
     "execution_count": 27,
     "metadata": {},
     "output_type": "execute_result"
    }
   ],
   "source": [
    "dct.score(X_test,y_test)"
   ]
  },
  {
   "cell_type": "code",
   "execution_count": 28,
   "metadata": {},
   "outputs": [
    {
     "data": {
      "text/plain": [
       "1"
      ]
     },
     "execution_count": 28,
     "metadata": {},
     "output_type": "execute_result"
    }
   ],
   "source": [
    "dct.n_outputs_"
   ]
  },
  {
   "cell_type": "code",
   "execution_count": 29,
   "metadata": {},
   "outputs": [],
   "source": [
    "kfold =KFold(n_splits=10, shuffle=True, random_state=0)"
   ]
  },
  {
   "cell_type": "code",
   "execution_count": 30,
   "metadata": {},
   "outputs": [],
   "source": [
    "rf_scores =cross_val_score(rf, X_train, y_train,cv=kfold)"
   ]
  },
  {
   "cell_type": "code",
   "execution_count": 31,
   "metadata": {},
   "outputs": [
    {
     "ename": "NameError",
     "evalue": "name 'scores' is not defined",
     "output_type": "error",
     "traceback": [
      "\u001b[0;31m---------------------------------------------------------------------------\u001b[0m",
      "\u001b[0;31mNameError\u001b[0m                                 Traceback (most recent call last)",
      "\u001b[0;32m<ipython-input-31-7f3073a2cfbd>\u001b[0m in \u001b[0;36m<module>\u001b[0;34m\u001b[0m\n\u001b[0;32m----> 1\u001b[0;31m \u001b[0mprint\u001b[0m\u001b[0;34m(\u001b[0m\u001b[0;34m'scores:{}'\u001b[0m\u001b[0;34m.\u001b[0m\u001b[0mformat\u001b[0m\u001b[0;34m(\u001b[0m\u001b[0mscores\u001b[0m\u001b[0;34m)\u001b[0m\u001b[0;34m)\u001b[0m\u001b[0;34m\u001b[0m\u001b[0;34m\u001b[0m\u001b[0m\n\u001b[0m",
      "\u001b[0;31mNameError\u001b[0m: name 'scores' is not defined"
     ]
    }
   ],
   "source": [
    "print('scores:{}'.format(scores))"
   ]
  },
  {
   "cell_type": "code",
   "execution_count": 26,
   "metadata": {},
   "outputs": [
    {
     "ename": "NameError",
     "evalue": "name 'scores' is not defined",
     "output_type": "error",
     "traceback": [
      "\u001b[0;31m---------------------------------------------------------------------------\u001b[0m",
      "\u001b[0;31mNameError\u001b[0m                                 Traceback (most recent call last)",
      "\u001b[0;32m<ipython-input-26-c547d56cef69>\u001b[0m in \u001b[0;36m<module>\u001b[0;34m\u001b[0m\n\u001b[0;32m----> 1\u001b[0;31m \u001b[0mprint\u001b[0m\u001b[0;34m(\u001b[0m\u001b[0;34m'acc of rf:'\u001b[0m\u001b[0;34m,\u001b[0m\u001b[0mscores\u001b[0m\u001b[0;34m.\u001b[0m\u001b[0mmean\u001b[0m\u001b[0;34m(\u001b[0m\u001b[0;34m)\u001b[0m\u001b[0;34m)\u001b[0m\u001b[0;34m\u001b[0m\u001b[0;34m\u001b[0m\u001b[0m\n\u001b[0m",
      "\u001b[0;31mNameError\u001b[0m: name 'scores' is not defined"
     ]
    }
   ],
   "source": [
    "print('acc of rf:',scores.mean())"
   ]
  },
  {
   "cell_type": "code",
   "execution_count": 32,
   "metadata": {},
   "outputs": [],
   "source": [
    "\n",
    "dct_scores =cross_val_score(dct, X_train, y_train, cv=kfold)"
   ]
  },
  {
   "cell_type": "code",
   "execution_count": 33,
   "metadata": {},
   "outputs": [
    {
     "name": "stdout",
     "output_type": "stream",
     "text": [
      "运行时间: 0.470241 s\n"
     ]
    }
   ],
   "source": [
    "start_time =time.time()\n",
    "rf.fit(X_train, y_train)\n",
    "end_time =time.time()\n",
    "dtime =end_time - start_time\n",
    "print('运行时间: %.8s s'% dtime)"
   ]
  },
  {
   "cell_type": "code",
   "execution_count": 34,
   "metadata": {},
   "outputs": [],
   "source": [
    "# print('scores:{}'.format(dctscores))"
   ]
  },
  {
   "cell_type": "code",
   "execution_count": 35,
   "metadata": {},
   "outputs": [],
   "source": [
    "# print('acc of dt:',dctscores.mean())"
   ]
  },
  {
   "cell_type": "code",
   "execution_count": 36,
   "metadata": {},
   "outputs": [],
   "source": [
    "# start_time =time.time()\n",
    "# dct.fit(X_train, y_train)\n",
    "# end_time =time.time()\n",
    "# dtime =end_time - start_time\n",
    "# print('运行时间: %.8s s'% dtime)"
   ]
  },
  {
   "cell_type": "code",
   "execution_count": 37,
   "metadata": {},
   "outputs": [],
   "source": [
    "rfpre =rf.predict(X_test)"
   ]
  },
  {
   "cell_type": "code",
   "execution_count": 38,
   "metadata": {},
   "outputs": [
    {
     "name": "stdout",
     "output_type": "stream",
     "text": [
      "rf accurcy: 0.9299583504428932\n"
     ]
    }
   ],
   "source": [
    "print('rf accurcy:', accuracy_score(y_test, rfpre))"
   ]
  },
  {
   "cell_type": "code",
   "execution_count": 39,
   "metadata": {},
   "outputs": [
    {
     "name": "stdout",
     "output_type": "stream",
     "text": [
      "dct accurcy: 0.9053205842670264\n"
     ]
    }
   ],
   "source": [
    "print('dct accurcy:', dct.score(X_test, y_test ))"
   ]
  },
  {
   "cell_type": "code",
   "execution_count": 40,
   "metadata": {},
   "outputs": [],
   "source": [
    "dctpre =dct.predict(X_test)"
   ]
  },
  {
   "cell_type": "code",
   "execution_count": 41,
   "metadata": {},
   "outputs": [],
   "source": [
    "accuracy_score(y_test, dctpre)"
   ]
  },
  {
   "cell_type": "code",
   "execution_count": 339,
   "metadata": {},
   "outputs": [],
   "source": [
    "list(zip(X_train.columns, rf.feature_importances_))"
   ]
  },
  {
   "cell_type": "code",
   "execution_count": 340,
   "metadata": {},
   "outputs": [],
   "source": [
    "list(zip(X_train.columns, dct.feature_importances_))"
   ]
  },
  {
   "cell_type": "code",
   "execution_count": 42,
   "metadata": {},
   "outputs": [
    {
     "data": {
      "text/plain": [
       "Text(0.5, 1.0, 'The Importance Of Feature in the Decision Tree Model')"
      ]
     },
     "execution_count": 42,
     "metadata": {},
     "output_type": "execute_result"
    },
    {
     "data": {
      "image/png": "[encoded data removed]",
      "text/plain": [
       "<Figure size 1080x576 with 1 Axes>"
      ]
     },
     "metadata": {
      "needs_background": "light"
     },
     "output_type": "display_data"
    }
   ],
   "source": [
    "fig =plt.figure(figsize=(15,8))\n",
    "ax =plt.axes()\n",
    "ax.bar(X_train.columns, dct.feature_importances_, color ='g')\n",
    "ax.set_xlabel('Features')\n",
    "ax.set_ylabel('importance')\n",
    "ax.set_title('The Importance Of Feature in the Decision Tree Model')"
   ]
  },
  {
   "cell_type": "code",
   "execution_count": 43,
   "metadata": {},
   "outputs": [
    {
     "data": {
      "text/plain": [
       "Text(0.5, 1.0, 'The Importance Of Feature in the Decision Tree Model')"
      ]
     },
     "execution_count": 43,
     "metadata": {},
     "output_type": "execute_result"
    },
    {
     "data": {
      "image/png": "[encoded data removed]",
      "text/plain": [
       "<Figure size 1080x576 with 1 Axes>"
      ]
     },
     "metadata": {
      "needs_background": "light"
     },
     "output_type": "display_data"
    }
   ],
   "source": [
    "fig =plt.figure(figsize=(15,8))\n",
    "ax =plt.axes()\n",
    "ax.bar(X_train.columns, rf.feature_importances_, color ='r')\n",
    "ax.set_xlabel('Features')\n",
    "ax.set_ylabel('importance')\n",
    "ax.set_title('The Importance Of Feature in the Decision Tree Model')"
   ]
  },
  {
   "cell_type": "code",
   "execution_count": 343,
   "metadata": {},
   "outputs": [],
   "source": [
    "from sklearn.metrics import confusion_matrix,roc_curve,f1_score,auc,precision_score,recall_score"
   ]
  },
  {
   "cell_type": "code",
   "execution_count": 344,
   "metadata": {},
   "outputs": [
    {
     "name": "stdout",
     "output_type": "stream",
     "text": [
      "Random Forest [[7803  641]\n",
      " [ 543 8060]]\n"
     ]
    }
   ],
   "source": [
    "print('Random Forest', confusion_matrix(y_test, rfpre))"
   ]
  },
  {
   "cell_type": "code",
   "execution_count": 345,
   "metadata": {},
   "outputs": [
    {
     "name": "stdout",
     "output_type": "stream",
     "text": [
      "Decision Tree [[7616  828]\n",
      " [ 829 7774]]\n"
     ]
    }
   ],
   "source": [
    "print('Decision Tree', confusion_matrix(y_test, dctpre))"
   ]
  },
  {
   "cell_type": "code",
   "execution_count": 346,
   "metadata": {},
   "outputs": [],
   "source": [
    "fpr_rf,tpr_rf,  thrsholds_rf =roc_curve(y_test, rf.predict_proba(X_test)[:, 1])\n",
    "fpr_dct, tpr_dct, thrshold_dct =roc_curve(y_test, dct.predict_proba(X_test)[:, 1])"
   ]
  },
  {
   "cell_type": "code",
   "execution_count": 347,
   "metadata": {},
   "outputs": [
    {
     "data": {
      "text/plain": [
       "<matplotlib.legend.Legend at 0x1a3eb4a978>"
      ]
     },
     "execution_count": 347,
     "metadata": {},
     "output_type": "execute_result"
    },
    {
     "data": {
      "image/png": "[encoded data removed]",
      "text/plain": [
       "<Figure size 432x288 with 1 Axes>"
      ]
     },
     "metadata": {
      "needs_background": "light"
     },
     "output_type": "display_data"
    }
   ],
   "source": [
    "plt.plot(fpr_rf, tpr_rf, label =' Roc curve Random_Forest', color ='b')\n",
    "plt.plot(fpr_dct, tpr_dct, label =' Roc curve Decision_Tree', color ='r')\n",
    "plt.xlabel('FPR')\n",
    "plt.ylabel('TPR')\n",
    "# plt.plot(fpr[close_zero], tpr[close_zero], 'o', marksize =10, label ='thrshold zero rf', fillstyle = 'none', c ='k', mew =2)\n",
    "plt.legend(loc =4)"
   ]
  },
  {
   "cell_type": "code",
   "execution_count": 348,
   "metadata": {},
   "outputs": [
    {
     "name": "stdout",
     "output_type": "stream",
     "text": [
      "auc of decision_tree: 0.9027902366029322\n",
      "auc of random_forest: 0.972394335412173\n"
     ]
    }
   ],
   "source": [
    "print('auc of decision_tree:', auc(fpr_dct, tpr_dct))\n",
    "print('auc of random_forest:',auc(fpr_rf, tpr_rf))"
   ]
  },
  {
   "cell_type": "code",
   "execution_count": 310,
   "metadata": {},
   "outputs": [],
   "source": [
    "#计算Random Forest的f1分数, 虽然准确率和召回率是非常重要的度量，但是二者仅考察二者之一无法提供完整的图景， f1分数是二者的调和平均汇总\n",
    "# print('f1 score of RF:', f1_score(y_test, rfpre))"
   ]
  },
  {
   "cell_type": "code",
   "execution_count": 311,
   "metadata": {},
   "outputs": [],
   "source": [
    "# print('f1 score of dt:', f1_score(y_test, dctpre))"
   ]
  },
  {
   "cell_type": "code",
   "execution_count": 312,
   "metadata": {},
   "outputs": [
    {
     "name": "stdout",
     "output_type": "stream",
     "text": [
      "rf precision: 0.9330662876340613\n",
      "rf recall: 0.8393583633616181\n",
      "rf f1: 0.8837351609350141\n"
     ]
    }
   ],
   "source": [
    "rf_precison=precision_score(y_test, rfpre)\n",
    "rf_recall =recall_score(y_test, rfpre)\n",
    "rf_f1 =f1_score(y_test, rfpre)\n",
    "print('rf precision:',rf_precison)\n",
    "print('rf recall:', rf_recall)\n",
    "print('rf f1:', rf_f1)"
   ]
  },
  {
   "cell_type": "code",
   "execution_count": 313,
   "metadata": {},
   "outputs": [
    {
     "name": "stdout",
     "output_type": "stream",
     "text": [
      "dt precision: 0.900425434057721\n",
      "dt recall: 0.9102638614436824\n",
      "dt f1: 0.9053179190751446\n"
     ]
    }
   ],
   "source": [
    "dt_precision =precision_score(y_test, dctpre)\n",
    "dt_recall =recall_score(y_test, dctpre)\n",
    "dt_f1 = f1_score(y_test, dctpre)\n",
    "print('dt precision:', dt_precision)\n",
    "print('dt recall:', dt_recall)\n",
    "print('dt f1:', dt_f1)"
   ]
  },
  {
   "cell_type": "code",
   "execution_count": null,
   "metadata": {},
   "outputs": [],
   "source": []
  }
 ],
 "metadata": {
  "kernelspec": {
   "display_name": "Python 3",
   "language": "python",
   "name": "python3"
  },
  "language_info": {
   "codemirror_mode": {
    "name": "ipython",
    "version": 3
   },
   "file_extension": ".py",
   "mimetype": "text/x-python",
   "name": "python",
   "nbconvert_exporter": "python",
   "pygments_lexer": "ipython3",
   "version": "3.6.8"
  }
 },
 "nbformat": 4,
 "nbformat_minor": 2
}
